{
 "cells": [
  {
   "cell_type": "code",
   "execution_count": 1,
   "id": "996dafca",
   "metadata": {},
   "outputs": [],
   "source": [
    "import pandas as pd\n",
    "import numpy as np\n",
    "import matplotlib.pyplot as plt\n",
    "from statsmodels.graphics.tsaplots import plot_acf, plot_pacf\n",
    "from sklearn.model_selection import train_test_split\n",
    "from sklearn.preprocessing import MinMaxScaler,StandardScaler\n",
    "from tensorflow.keras.models import Sequential\n",
    "from tensorflow.keras.layers import LSTM, Dense\n",
    "import seaborn as sns"
   ]
  },
  {
   "cell_type": "code",
   "execution_count": 6,
   "id": "3098c339",
   "metadata": {},
   "outputs": [],
   "source": [
    "data=pd.read_excel(\"jharkhand.xlsx\")"
   ]
  },
  {
   "cell_type": "code",
   "execution_count": 7,
   "id": "6a8ef65c",
   "metadata": {},
   "outputs": [],
   "source": [
    "data['Timestamp']=pd.to_datetime(data.Timestamp)"
   ]
  },
  {
   "cell_type": "code",
   "execution_count": 8,
   "id": "0670d6e6",
   "metadata": {
    "scrolled": true
   },
   "outputs": [
    {
     "data": {
      "text/html": [
       "<div>\n",
       "<style scoped>\n",
       "    .dataframe tbody tr th:only-of-type {\n",
       "        vertical-align: middle;\n",
       "    }\n",
       "\n",
       "    .dataframe tbody tr th {\n",
       "        vertical-align: top;\n",
       "    }\n",
       "\n",
       "    .dataframe thead th {\n",
       "        text-align: right;\n",
       "    }\n",
       "</style>\n",
       "<table border=\"1\" class=\"dataframe\">\n",
       "  <thead>\n",
       "    <tr style=\"text-align: right;\">\n",
       "      <th></th>\n",
       "      <th>Timestamp</th>\n",
       "      <th>demand</th>\n",
       "    </tr>\n",
       "  </thead>\n",
       "  <tbody>\n",
       "    <tr>\n",
       "      <th>0</th>\n",
       "      <td>2022-04-01 00:00:00</td>\n",
       "      <td>63.1060</td>\n",
       "    </tr>\n",
       "    <tr>\n",
       "      <th>1</th>\n",
       "      <td>2022-04-01 00:15:00</td>\n",
       "      <td>67.4580</td>\n",
       "    </tr>\n",
       "    <tr>\n",
       "      <th>2</th>\n",
       "      <td>2022-04-01 00:30:00</td>\n",
       "      <td>52.4316</td>\n",
       "    </tr>\n",
       "    <tr>\n",
       "      <th>3</th>\n",
       "      <td>2022-04-01 00:45:00</td>\n",
       "      <td>54.9388</td>\n",
       "    </tr>\n",
       "    <tr>\n",
       "      <th>4</th>\n",
       "      <td>2022-04-01 01:00:00</td>\n",
       "      <td>57.2732</td>\n",
       "    </tr>\n",
       "  </tbody>\n",
       "</table>\n",
       "</div>"
      ],
      "text/plain": [
       "            Timestamp   demand\n",
       "0 2022-04-01 00:00:00  63.1060\n",
       "1 2022-04-01 00:15:00  67.4580\n",
       "2 2022-04-01 00:30:00  52.4316\n",
       "3 2022-04-01 00:45:00  54.9388\n",
       "4 2022-04-01 01:00:00  57.2732"
      ]
     },
     "execution_count": 8,
     "metadata": {},
     "output_type": "execute_result"
    }
   ],
   "source": [
    "data.head()"
   ]
  },
  {
   "cell_type": "code",
   "execution_count": 9,
   "id": "d90223a8",
   "metadata": {},
   "outputs": [],
   "source": [
    "df=data.iloc[:1344]"
   ]
  },
  {
   "cell_type": "code",
   "execution_count": 10,
   "id": "bb2f7c59",
   "metadata": {},
   "outputs": [],
   "source": [
    "cols=list(df)[1:2]"
   ]
  },
  {
   "cell_type": "code",
   "execution_count": 11,
   "id": "2db4e86c",
   "metadata": {},
   "outputs": [],
   "source": [
    "df_for_training=df[cols].astype(float)\n"
   ]
  },
  {
   "cell_type": "code",
   "execution_count": 12,
   "id": "ab6cae6c",
   "metadata": {},
   "outputs": [],
   "source": [
    "scaler=MinMaxScaler()\n",
    "scaler=scaler.fit(df_for_training)\n",
    "df_for_training_scaled=scaler.transform(df_for_training)"
   ]
  },
  {
   "cell_type": "code",
   "execution_count": 13,
   "id": "bab95e9e",
   "metadata": {},
   "outputs": [],
   "source": [
    "trainX=[]\n",
    "trainY=[]"
   ]
  },
  {
   "cell_type": "code",
   "execution_count": 14,
   "id": "c8a06949",
   "metadata": {},
   "outputs": [],
   "source": [
    "n_future=1\n",
    "n_past=96"
   ]
  },
  {
   "cell_type": "code",
   "execution_count": 15,
   "id": "b80ad596",
   "metadata": {},
   "outputs": [],
   "source": [
    "for i in range(n_past,len(df_for_training_scaled )):\n",
    "    trainX.append(df_for_training_scaled[i-n_past:i,0:df_for_training.shape[1]])\n",
    "    trainY.append(df_for_training_scaled[i+n_future-1:i+n_future,0])\n",
    "trainX,trainY=np.array(trainX),np.array(trainY)"
   ]
  },
  {
   "cell_type": "code",
   "execution_count": 38,
   "id": "36fb90e7",
   "metadata": {},
   "outputs": [],
   "source": [
    "trainX=np.reshape(trainX,(trainX.shape[0],1,trainX.shape[1]))"
   ]
  },
  {
   "cell_type": "code",
   "execution_count": 39,
   "id": "4d3e8467",
   "metadata": {},
   "outputs": [],
   "source": [
    "model=Sequential()\n",
    "model.add(LSTM(64,activation='relu',input_shape=(None,trainX.shape[2]),return_sequences=True))\n",
    "model.add(Dense(32))\n",
    "model.add(Dense(1))\n",
    "\n",
    "model.compile(optimizer='adam',loss='mae')\n"
   ]
  },
  {
   "cell_type": "code",
   "execution_count": 40,
   "id": "f8a66d57",
   "metadata": {},
   "outputs": [
    {
     "name": "stdout",
     "output_type": "stream",
     "text": [
      "Epoch 1/20\n",
      "71/71 [==============================] - 39s 72ms/step - loss: 0.1408 - val_loss: 0.1266\n",
      "Epoch 2/20\n",
      "71/71 [==============================] - 1s 9ms/step - loss: 0.1188 - val_loss: 0.1208\n",
      "Epoch 3/20\n",
      "71/71 [==============================] - 1s 14ms/step - loss: 0.1178 - val_loss: 0.1200\n",
      "Epoch 4/20\n",
      "71/71 [==============================] - 1s 16ms/step - loss: 0.1150 - val_loss: 0.1189\n",
      "Epoch 5/20\n",
      "71/71 [==============================] - 1s 11ms/step - loss: 0.1121 - val_loss: 0.1156\n",
      "Epoch 6/20\n",
      "71/71 [==============================] - 1s 9ms/step - loss: 0.1095 - val_loss: 0.1150\n",
      "Epoch 7/20\n",
      "71/71 [==============================] - 1s 14ms/step - loss: 0.1101 - val_loss: 0.1179\n",
      "Epoch 8/20\n",
      "71/71 [==============================] - 1s 12ms/step - loss: 0.1081 - val_loss: 0.1151\n",
      "Epoch 9/20\n",
      "71/71 [==============================] - 1s 17ms/step - loss: 0.1087 - val_loss: 0.1136\n",
      "Epoch 10/20\n",
      "71/71 [==============================] - 1s 9ms/step - loss: 0.1076 - val_loss: 0.1141\n",
      "Epoch 11/20\n",
      "71/71 [==============================] - 1s 15ms/step - loss: 0.1090 - val_loss: 0.1197\n",
      "Epoch 12/20\n",
      "71/71 [==============================] - 1s 13ms/step - loss: 0.1093 - val_loss: 0.1171\n",
      "Epoch 13/20\n",
      "71/71 [==============================] - 1s 14ms/step - loss: 0.1058 - val_loss: 0.1123\n",
      "Epoch 14/20\n",
      "71/71 [==============================] - 1s 12ms/step - loss: 0.1065 - val_loss: 0.1111\n",
      "Epoch 15/20\n",
      "71/71 [==============================] - 1s 9ms/step - loss: 0.1092 - val_loss: 0.1116\n",
      "Epoch 16/20\n",
      "71/71 [==============================] - 1s 18ms/step - loss: 0.1054 - val_loss: 0.1117\n",
      "Epoch 17/20\n",
      "71/71 [==============================] - 1s 10ms/step - loss: 0.1056 - val_loss: 0.1136\n",
      "Epoch 18/20\n",
      "71/71 [==============================] - 1s 15ms/step - loss: 0.1054 - val_loss: 0.1111\n",
      "Epoch 19/20\n",
      "71/71 [==============================] - 1s 13ms/step - loss: 0.1026 - val_loss: 0.1120\n",
      "Epoch 20/20\n",
      "71/71 [==============================] - 1s 15ms/step - loss: 0.1070 - val_loss: 0.1122\n"
     ]
    }
   ],
   "source": [
    "history=model.fit(trainX,trainY,epochs=20,batch_size=16,validation_split=0.1,verbose=1)"
   ]
  },
  {
   "cell_type": "code",
   "execution_count": 41,
   "id": "45d52024",
   "metadata": {},
   "outputs": [
    {
     "name": "stdout",
     "output_type": "stream",
     "text": [
      "3/3 [==============================] - 4s 0s/step\n"
     ]
    }
   ],
   "source": [
    "prediction = model.predict(trainX[-96:])"
   ]
  },
  {
   "cell_type": "code",
   "execution_count": 42,
   "id": "2463355a",
   "metadata": {},
   "outputs": [],
   "source": [
    "forcast_period_times=df['Timestamp'].iloc[576:].tolist()"
   ]
  },
  {
   "cell_type": "code",
   "execution_count": 43,
   "id": "d2349bfd",
   "metadata": {
    "scrolled": false
   },
   "outputs": [
    {
     "name": "stdout",
     "output_type": "stream",
     "text": [
      "3/3 [==============================] - 0s 8ms/step\n"
     ]
    }
   ],
   "source": [
    "forcast=model.predict(trainX[-96:])\n",
    "forcast_copies=np.repeat(forcast,df_for_training.shape[1],axis=-1)"
   ]
  },
  {
   "cell_type": "code",
   "execution_count": 44,
   "id": "acca581b",
   "metadata": {},
   "outputs": [
    {
     "data": {
      "text/plain": [
       "(1344, 1)"
      ]
     },
     "execution_count": 44,
     "metadata": {},
     "output_type": "execute_result"
    }
   ],
   "source": [
    "df_for_training.shape"
   ]
  },
  {
   "cell_type": "code",
   "execution_count": 45,
   "id": "caafac01",
   "metadata": {
    "scrolled": false
   },
   "outputs": [
    {
     "ename": "ValueError",
     "evalue": "Found array with dim 3. Estimator expected <= 2.",
     "output_type": "error",
     "traceback": [
      "\u001b[1;31m---------------------------------------------------------------------------\u001b[0m",
      "\u001b[1;31mValueError\u001b[0m                                Traceback (most recent call last)",
      "Input \u001b[1;32mIn [45]\u001b[0m, in \u001b[0;36m<cell line: 1>\u001b[1;34m()\u001b[0m\n\u001b[1;32m----> 1\u001b[0m y_pred\u001b[38;5;241m=\u001b[39m\u001b[43mscaler\u001b[49m\u001b[38;5;241;43m.\u001b[39;49m\u001b[43minverse_transform\u001b[49m\u001b[43m(\u001b[49m\u001b[43mforcast_copies\u001b[49m\u001b[43m)\u001b[49m[:,\u001b[38;5;241m0\u001b[39m]\n",
      "File \u001b[1;32m~\\anaconda3\\lib\\site-packages\\sklearn\\preprocessing\\_data.py:525\u001b[0m, in \u001b[0;36mMinMaxScaler.inverse_transform\u001b[1;34m(self, X)\u001b[0m\n\u001b[0;32m    511\u001b[0m \u001b[38;5;124;03m\"\"\"Undo the scaling of X according to feature_range.\u001b[39;00m\n\u001b[0;32m    512\u001b[0m \n\u001b[0;32m    513\u001b[0m \u001b[38;5;124;03mParameters\u001b[39;00m\n\u001b[1;32m   (...)\u001b[0m\n\u001b[0;32m    521\u001b[0m \u001b[38;5;124;03m    Transformed data.\u001b[39;00m\n\u001b[0;32m    522\u001b[0m \u001b[38;5;124;03m\"\"\"\u001b[39;00m\n\u001b[0;32m    523\u001b[0m check_is_fitted(\u001b[38;5;28mself\u001b[39m)\n\u001b[1;32m--> 525\u001b[0m X \u001b[38;5;241m=\u001b[39m \u001b[43mcheck_array\u001b[49m\u001b[43m(\u001b[49m\n\u001b[0;32m    526\u001b[0m \u001b[43m    \u001b[49m\u001b[43mX\u001b[49m\u001b[43m,\u001b[49m\u001b[43m \u001b[49m\u001b[43mcopy\u001b[49m\u001b[38;5;241;43m=\u001b[39;49m\u001b[38;5;28;43mself\u001b[39;49m\u001b[38;5;241;43m.\u001b[39;49m\u001b[43mcopy\u001b[49m\u001b[43m,\u001b[49m\u001b[43m \u001b[49m\u001b[43mdtype\u001b[49m\u001b[38;5;241;43m=\u001b[39;49m\u001b[43mFLOAT_DTYPES\u001b[49m\u001b[43m,\u001b[49m\u001b[43m \u001b[49m\u001b[43mforce_all_finite\u001b[49m\u001b[38;5;241;43m=\u001b[39;49m\u001b[38;5;124;43m\"\u001b[39;49m\u001b[38;5;124;43mallow-nan\u001b[39;49m\u001b[38;5;124;43m\"\u001b[39;49m\n\u001b[0;32m    527\u001b[0m \u001b[43m\u001b[49m\u001b[43m)\u001b[49m\n\u001b[0;32m    529\u001b[0m X \u001b[38;5;241m-\u001b[39m\u001b[38;5;241m=\u001b[39m \u001b[38;5;28mself\u001b[39m\u001b[38;5;241m.\u001b[39mmin_\n\u001b[0;32m    530\u001b[0m X \u001b[38;5;241m/\u001b[39m\u001b[38;5;241m=\u001b[39m \u001b[38;5;28mself\u001b[39m\u001b[38;5;241m.\u001b[39mscale_\n",
      "File \u001b[1;32m~\\anaconda3\\lib\\site-packages\\sklearn\\utils\\validation.py:794\u001b[0m, in \u001b[0;36mcheck_array\u001b[1;34m(array, accept_sparse, accept_large_sparse, dtype, order, copy, force_all_finite, ensure_2d, allow_nd, ensure_min_samples, ensure_min_features, estimator)\u001b[0m\n\u001b[0;32m    789\u001b[0m         \u001b[38;5;28;01mraise\u001b[39;00m \u001b[38;5;167;01mValueError\u001b[39;00m(\n\u001b[0;32m    790\u001b[0m             \u001b[38;5;124m\"\u001b[39m\u001b[38;5;124mUnable to convert array of bytes/strings \u001b[39m\u001b[38;5;124m\"\u001b[39m\n\u001b[0;32m    791\u001b[0m             \u001b[38;5;124m\"\u001b[39m\u001b[38;5;124minto decimal numbers with dtype=\u001b[39m\u001b[38;5;124m'\u001b[39m\u001b[38;5;124mnumeric\u001b[39m\u001b[38;5;124m'\u001b[39m\u001b[38;5;124m\"\u001b[39m\n\u001b[0;32m    792\u001b[0m         ) \u001b[38;5;28;01mfrom\u001b[39;00m \u001b[38;5;21;01me\u001b[39;00m\n\u001b[0;32m    793\u001b[0m \u001b[38;5;28;01mif\u001b[39;00m \u001b[38;5;129;01mnot\u001b[39;00m allow_nd \u001b[38;5;129;01mand\u001b[39;00m array\u001b[38;5;241m.\u001b[39mndim \u001b[38;5;241m>\u001b[39m\u001b[38;5;241m=\u001b[39m \u001b[38;5;241m3\u001b[39m:\n\u001b[1;32m--> 794\u001b[0m     \u001b[38;5;28;01mraise\u001b[39;00m \u001b[38;5;167;01mValueError\u001b[39;00m(\n\u001b[0;32m    795\u001b[0m         \u001b[38;5;124m\"\u001b[39m\u001b[38;5;124mFound array with dim \u001b[39m\u001b[38;5;132;01m%d\u001b[39;00m\u001b[38;5;124m. \u001b[39m\u001b[38;5;132;01m%s\u001b[39;00m\u001b[38;5;124m expected <= 2.\u001b[39m\u001b[38;5;124m\"\u001b[39m\n\u001b[0;32m    796\u001b[0m         \u001b[38;5;241m%\u001b[39m (array\u001b[38;5;241m.\u001b[39mndim, estimator_name)\n\u001b[0;32m    797\u001b[0m     )\n\u001b[0;32m    799\u001b[0m \u001b[38;5;28;01mif\u001b[39;00m force_all_finite:\n\u001b[0;32m    800\u001b[0m     _assert_all_finite(array, allow_nan\u001b[38;5;241m=\u001b[39mforce_all_finite \u001b[38;5;241m==\u001b[39m \u001b[38;5;124m\"\u001b[39m\u001b[38;5;124mallow-nan\u001b[39m\u001b[38;5;124m\"\u001b[39m)\n",
      "\u001b[1;31mValueError\u001b[0m: Found array with dim 3. Estimator expected <= 2."
     ]
    }
   ],
   "source": [
    "y_pred=scaler.inverse_transform(forcast_copies)[:,0]"
   ]
  },
  {
   "cell_type": "code",
   "execution_count": null,
   "id": "c63b8fe1",
   "metadata": {},
   "outputs": [],
   "source": [
    "df1=data.iloc[1344:1344+96]"
   ]
  },
  {
   "cell_type": "code",
   "execution_count": null,
   "id": "cbf5de14",
   "metadata": {},
   "outputs": [],
   "source": [
    "df1"
   ]
  },
  {
   "cell_type": "code",
   "execution_count": null,
   "id": "d2a7ef93",
   "metadata": {
    "scrolled": true
   },
   "outputs": [],
   "source": [
    "df1['predict']=y_pred"
   ]
  },
  {
   "cell_type": "code",
   "execution_count": 46,
   "id": "0e020ded",
   "metadata": {
    "scrolled": true
   },
   "outputs": [
    {
     "data": {
      "text/html": [
       "<div>\n",
       "<style scoped>\n",
       "    .dataframe tbody tr th:only-of-type {\n",
       "        vertical-align: middle;\n",
       "    }\n",
       "\n",
       "    .dataframe tbody tr th {\n",
       "        vertical-align: top;\n",
       "    }\n",
       "\n",
       "    .dataframe thead th {\n",
       "        text-align: right;\n",
       "    }\n",
       "</style>\n",
       "<table border=\"1\" class=\"dataframe\">\n",
       "  <thead>\n",
       "    <tr style=\"text-align: right;\">\n",
       "      <th></th>\n",
       "      <th>Timestamp</th>\n",
       "      <th>demand</th>\n",
       "      <th>predict</th>\n",
       "    </tr>\n",
       "  </thead>\n",
       "  <tbody>\n",
       "    <tr>\n",
       "      <th>1344</th>\n",
       "      <td>2022-04-15 00:00:00</td>\n",
       "      <td>61.1048</td>\n",
       "      <td>54.715054</td>\n",
       "    </tr>\n",
       "    <tr>\n",
       "      <th>1345</th>\n",
       "      <td>2022-04-15 00:15:00</td>\n",
       "      <td>55.1448</td>\n",
       "      <td>53.462517</td>\n",
       "    </tr>\n",
       "    <tr>\n",
       "      <th>1346</th>\n",
       "      <td>2022-04-15 00:30:00</td>\n",
       "      <td>54.5452</td>\n",
       "      <td>54.269329</td>\n",
       "    </tr>\n",
       "    <tr>\n",
       "      <th>1347</th>\n",
       "      <td>2022-04-15 00:45:00</td>\n",
       "      <td>60.1852</td>\n",
       "      <td>57.427628</td>\n",
       "    </tr>\n",
       "    <tr>\n",
       "      <th>1348</th>\n",
       "      <td>2022-04-15 01:00:00</td>\n",
       "      <td>60.0252</td>\n",
       "      <td>58.778751</td>\n",
       "    </tr>\n",
       "    <tr>\n",
       "      <th>...</th>\n",
       "      <td>...</td>\n",
       "      <td>...</td>\n",
       "      <td>...</td>\n",
       "    </tr>\n",
       "    <tr>\n",
       "      <th>1435</th>\n",
       "      <td>2022-04-15 22:45:00</td>\n",
       "      <td>60.1288</td>\n",
       "      <td>58.667366</td>\n",
       "    </tr>\n",
       "    <tr>\n",
       "      <th>1436</th>\n",
       "      <td>2022-04-15 23:00:00</td>\n",
       "      <td>49.0368</td>\n",
       "      <td>55.714691</td>\n",
       "    </tr>\n",
       "    <tr>\n",
       "      <th>1437</th>\n",
       "      <td>2022-04-15 23:15:00</td>\n",
       "      <td>51.9200</td>\n",
       "      <td>54.579887</td>\n",
       "    </tr>\n",
       "    <tr>\n",
       "      <th>1438</th>\n",
       "      <td>2022-04-15 23:30:00</td>\n",
       "      <td>48.0904</td>\n",
       "      <td>52.901604</td>\n",
       "    </tr>\n",
       "    <tr>\n",
       "      <th>1439</th>\n",
       "      <td>2022-04-15 23:45:00</td>\n",
       "      <td>49.2828</td>\n",
       "      <td>51.263226</td>\n",
       "    </tr>\n",
       "  </tbody>\n",
       "</table>\n",
       "<p>96 rows × 3 columns</p>\n",
       "</div>"
      ],
      "text/plain": [
       "               Timestamp   demand    predict\n",
       "1344 2022-04-15 00:00:00  61.1048  54.715054\n",
       "1345 2022-04-15 00:15:00  55.1448  53.462517\n",
       "1346 2022-04-15 00:30:00  54.5452  54.269329\n",
       "1347 2022-04-15 00:45:00  60.1852  57.427628\n",
       "1348 2022-04-15 01:00:00  60.0252  58.778751\n",
       "...                  ...      ...        ...\n",
       "1435 2022-04-15 22:45:00  60.1288  58.667366\n",
       "1436 2022-04-15 23:00:00  49.0368  55.714691\n",
       "1437 2022-04-15 23:15:00  51.9200  54.579887\n",
       "1438 2022-04-15 23:30:00  48.0904  52.901604\n",
       "1439 2022-04-15 23:45:00  49.2828  51.263226\n",
       "\n",
       "[96 rows x 3 columns]"
      ]
     },
     "execution_count": 46,
     "metadata": {},
     "output_type": "execute_result"
    }
   ],
   "source": [
    "df1"
   ]
  },
  {
   "cell_type": "code",
   "execution_count": 47,
   "id": "586d97d7",
   "metadata": {
    "scrolled": true
   },
   "outputs": [
    {
     "name": "stderr",
     "output_type": "stream",
     "text": [
      "C:\\Users\\91939\\anaconda3\\lib\\site-packages\\seaborn\\_decorators.py:36: FutureWarning: Pass the following variables as keyword args: x, y. From version 0.12, the only valid positional argument will be `data`, and passing other arguments without an explicit keyword will result in an error or misinterpretation.\n",
      "  warnings.warn(\n",
      "C:\\Users\\91939\\anaconda3\\lib\\site-packages\\seaborn\\_decorators.py:36: FutureWarning: Pass the following variables as keyword args: x, y. From version 0.12, the only valid positional argument will be `data`, and passing other arguments without an explicit keyword will result in an error or misinterpretation.\n",
      "  warnings.warn(\n"
     ]
    },
    {
     "data": {
      "text/plain": [
       "<AxesSubplot:xlabel='Timestamp', ylabel='demand'>"
      ]
     },
     "execution_count": 47,
     "metadata": {},
     "output_type": "execute_result"
    },
    {
     "data": {
      "image/png": "[encoded data removed]",
      "text/plain": [
       "<Figure size 432x288 with 1 Axes>"
      ]
     },
     "metadata": {
      "needs_background": "light"
     },
     "output_type": "display_data"
    }
   ],
   "source": [
    "sns.lineplot(df1['Timestamp'],df1['demand'],color='red')\n",
    "sns.lineplot(df1['Timestamp'],df1['predict'])"
   ]
  },
  {
   "cell_type": "code",
   "execution_count": 29,
   "id": "7cab60f4",
   "metadata": {
    "scrolled": false
   },
   "outputs": [
    {
     "data": {
      "text/plain": [
       "96"
      ]
     },
     "execution_count": 29,
     "metadata": {},
     "output_type": "execute_result"
    }
   ],
   "source": [
    "np.size(y_pred)"
   ]
  },
  {
   "cell_type": "code",
   "execution_count": null,
   "id": "e4d994ba",
   "metadata": {},
   "outputs": [],
   "source": []
  }
 ],
 "metadata": {
  "kernelspec": {
   "display_name": "Python 3 (ipykernel)",
   "language": "python",
   "name": "python3"
  },
  "language_info": {
   "codemirror_mode": {
    "name": "ipython",
    "version": 3
   },
   "file_extension": ".py",
   "mimetype": "text/x-python",
   "name": "python",
   "nbconvert_exporter": "python",
   "pygments_lexer": "ipython3",
   "version": "3.9.12"
  }
 },
 "nbformat": 4,
 "nbformat_minor": 5
}
