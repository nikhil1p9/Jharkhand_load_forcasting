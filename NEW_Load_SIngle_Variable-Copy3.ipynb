{
 "cells": [
  {
   "cell_type": "code",
   "execution_count": 28,
   "id": "996dafca",
   "metadata": {},
   "outputs": [],
   "source": [
    "import pandas as pd\n",
    "import numpy as np\n",
    "import matplotlib.pyplot as plt\n",
    "from statsmodels.graphics.tsaplots import plot_acf, plot_pacf\n",
    "from sklearn.model_selection import train_test_split\n",
    "from sklearn.preprocessing import MinMaxScaler,StandardScaler\n",
    "from tensorflow.keras.models import Sequential\n",
    "from tensorflow.keras.layers import LSTM, Dense,Dropout\n",
    "import seaborn as sns\n",
    "from sklearn.model_selection import train_test_split\n",
    "import math\n",
    "from sklearn.metrics import mean_squared_error"
   ]
  },
  {
   "cell_type": "code",
   "execution_count": 29,
   "id": "3098c339",
   "metadata": {},
   "outputs": [],
   "source": [
    "data=pd.read_excel(\"jharkhand.xlsx\")"
   ]
  },
  {
   "cell_type": "code",
   "execution_count": 30,
   "id": "6a8ef65c",
   "metadata": {},
   "outputs": [],
   "source": [
    "data['Timestamp']=pd.to_datetime(data.Timestamp)"
   ]
  },
  {
   "cell_type": "code",
   "execution_count": 31,
   "id": "d90223a8",
   "metadata": {},
   "outputs": [],
   "source": [
    "df=data.iloc[:]"
   ]
  },
  {
   "cell_type": "code",
   "execution_count": 32,
   "id": "b61b1ea1",
   "metadata": {},
   "outputs": [],
   "source": [
    "cols=list(df)[1:2]"
   ]
  },
  {
   "cell_type": "code",
   "execution_count": 33,
   "id": "df5646dc",
   "metadata": {},
   "outputs": [],
   "source": [
    "df1= df.iloc[:38400]\n",
    "df2=df.iloc[38400:]"
   ]
  },
  {
   "cell_type": "code",
   "execution_count": 34,
   "id": "2db4e86c",
   "metadata": {},
   "outputs": [],
   "source": [
    "dataset=df[cols].astype(float)\n",
    "train_1 = df1[cols].astype(float)"
   ]
  },
  {
   "cell_type": "code",
   "execution_count": 35,
   "id": "ca054680",
   "metadata": {},
   "outputs": [],
   "source": [
    "scaler = MinMaxScaler(feature_range=(0,1))\n",
    "scaler = scaler.fit(train_1)\n",
    "train = scaler.transform(train_1)"
   ]
  },
  {
   "cell_type": "code",
   "execution_count": 36,
   "id": "793aa75a",
   "metadata": {},
   "outputs": [],
   "source": [
    "# Using 400 days as train and 58 days for testing"
   ]
  },
  {
   "cell_type": "code",
   "execution_count": 37,
   "id": "7627802f",
   "metadata": {},
   "outputs": [],
   "source": [
    "n_future=1\n",
    "n_past=96"
   ]
  },
  {
   "cell_type": "code",
   "execution_count": 38,
   "id": "b80ad596",
   "metadata": {},
   "outputs": [],
   "source": [
    "def splitter(dataset, n_past,n_future):\n",
    "    X=[]\n",
    "    Y=[]\n",
    "    for i in range(n_past,len(dataset) - n_future+1):\n",
    "        X.append(dataset[i-n_past:i,0:dataset.shape[1]])\n",
    "        Y.append(dataset[i+n_future-1:i+n_future,0])\n",
    "    return np.array(X),np.array(Y)\n"
   ]
  },
  {
   "cell_type": "code",
   "execution_count": 66,
   "id": "bd2ae16d",
   "metadata": {},
   "outputs": [],
   "source": [
    "trainX,trainY=splitter(train,n_past,n_future)"
   ]
  },
  {
   "cell_type": "code",
   "execution_count": 41,
   "id": "a495dbcc",
   "metadata": {},
   "outputs": [
    {
     "data": {
      "text/plain": [
       "numpy.ndarray"
      ]
     },
     "execution_count": 41,
     "metadata": {},
     "output_type": "execute_result"
    }
   ],
   "source": [
    "tra"
   ]
  },
  {
   "cell_type": "code",
   "execution_count": 42,
   "id": "4d3e8467",
   "metadata": {},
   "outputs": [
    {
     "name": "stdout",
     "output_type": "stream",
     "text": [
      "Model: \"sequential_1\"\n",
      "_________________________________________________________________\n",
      " Layer (type)                Output Shape              Param #   \n",
      "=================================================================\n",
      " lstm_2 (LSTM)               (None, 96, 64)            16896     \n",
      "                                                                 \n",
      " lstm_3 (LSTM)               (None, 32)                12416     \n",
      "                                                                 \n",
      " dropout_1 (Dropout)         (None, 32)                0         \n",
      "                                                                 \n",
      " dense_1 (Dense)             (None, 1)                 33        \n",
      "                                                                 \n",
      "=================================================================\n",
      "Total params: 29,345\n",
      "Trainable params: 29,345\n",
      "Non-trainable params: 0\n",
      "_________________________________________________________________\n"
     ]
    }
   ],
   "source": [
    "model = Sequential()\n",
    "model.add(LSTM(64, activation='relu', input_shape=(trainX.shape[1], trainX.shape[2]), return_sequences=True))\n",
    "model.add(LSTM(32, activation='relu', return_sequences=False))\n",
    "model.add(Dropout(0.2))\n",
    "model.add(Dense(trainY.shape[1]))\n",
    "\n",
    "model.compile(optimizer='adam', loss='mse')\n",
    "model.summary()"
   ]
  },
  {
   "cell_type": "code",
   "execution_count": 43,
   "id": "f8a66d57",
   "metadata": {
    "scrolled": false
   },
   "outputs": [
    {
     "name": "stdout",
     "output_type": "stream",
     "text": [
      "Epoch 1/2\n",
      "2155/2155 [==============================] - 179s 81ms/step - loss: 0.0054 - val_loss: 0.0096\n",
      "Epoch 2/2\n",
      "2155/2155 [==============================] - 176s 81ms/step - loss: 0.0037 - val_loss: 0.0143\n"
     ]
    }
   ],
   "source": [
    "history = model.fit(trainX, trainY, epochs=2, batch_size=16, validation_split=0.1, verbose=1)"
   ]
  },
  {
   "cell_type": "code",
   "execution_count": 67,
   "id": "684e6195",
   "metadata": {},
   "outputs": [],
   "source": [
    "templist = trainX[-96:]"
   ]
  },
  {
   "cell_type": "code",
   "execution_count": null,
   "id": "8fb1d3ba",
   "metadata": {},
   "outputs": [],
   "source": []
  },
  {
   "cell_type": "code",
   "execution_count": 21,
   "id": "fe314da3",
   "metadata": {},
   "outputs": [
    {
     "name": "stderr",
     "output_type": "stream",
     "text": [
      "C:\\Users\\91939\\AppData\\Local\\Temp\\ipykernel_24572\\2100764786.py:1: SettingWithCopyWarning: \n",
      "A value is trying to be set on a copy of a slice from a DataFrame.\n",
      "Try using .loc[row_indexer,col_indexer] = value instead\n",
      "\n",
      "See the caveats in the documentation: https://pandas.pydata.org/pandas-docs/stable/user_guide/indexing.html#returning-a-view-versus-a-copy\n",
      "  df2['predict'] = y_pred_future\n"
     ]
    }
   ],
   "source": [
    "df2['predict'] = y_pred_future"
   ]
  },
  {
   "cell_type": "code",
   "execution_count": 23,
   "id": "82e3fc92",
   "metadata": {},
   "outputs": [
    {
     "name": "stderr",
     "output_type": "stream",
     "text": [
      "C:\\Users\\91939\\anaconda3\\lib\\site-packages\\seaborn\\_decorators.py:36: FutureWarning: Pass the following variables as keyword args: x, y. From version 0.12, the only valid positional argument will be `data`, and passing other arguments without an explicit keyword will result in an error or misinterpretation.\n",
      "  warnings.warn(\n",
      "C:\\Users\\91939\\anaconda3\\lib\\site-packages\\seaborn\\_decorators.py:36: FutureWarning: Pass the following variables as keyword args: x, y. From version 0.12, the only valid positional argument will be `data`, and passing other arguments without an explicit keyword will result in an error or misinterpretation.\n",
      "  warnings.warn(\n"
     ]
    },
    {
     "data": {
      "text/plain": [
       "<AxesSubplot:xlabel='Timestamp', ylabel='demand'>"
      ]
     },
     "execution_count": 23,
     "metadata": {},
     "output_type": "execute_result"
    },
    {
     "data": {
      "image/png": "[encoded data removed]",
      "text/plain": [
       "<Figure size 432x288 with 1 Axes>"
      ]
     },
     "metadata": {
      "needs_background": "light"
     },
     "output_type": "display_data"
    }
   ],
   "source": [
    "sns.lineplot(df2['Timestamp'],df2['demand'])\n",
    "sns.lineplot(df2['Timestamp'],df2['predict'])"
   ]
  },
  {
   "cell_type": "code",
   "execution_count": null,
   "id": "c84c4360",
   "metadata": {},
   "outputs": [],
   "source": []
  },
  {
   "cell_type": "code",
   "execution_count": 24,
   "id": "4aa3cb52",
   "metadata": {},
   "outputs": [],
   "source": [
    "def mean_squared_percentage_error(y_true, y_pred):\n",
    "    y_true, y_pred = np.array(y_true), np.array(y_pred)\n",
    "    return np.mean(np.square((y_true - y_pred) / y_true)) * 100"
   ]
  },
  {
   "cell_type": "code",
   "execution_count": 27,
   "id": "a3f8169a",
   "metadata": {},
   "outputs": [
    {
     "name": "stdout",
     "output_type": "stream",
     "text": [
      "Mean Squared Percentage Error: 5.94%\n"
     ]
    }
   ],
   "source": [
    "mspe = mean_squared_percentage_error(df2['demand'],y_pred_future)\n",
    "print(f'Mean Squared Percentage Error: {mspe:.2f}%')"
   ]
  },
  {
   "cell_type": "code",
   "execution_count": null,
   "id": "4b034dde",
   "metadata": {},
   "outputs": [],
   "source": []
  }
 ],
 "metadata": {
  "kernelspec": {
   "display_name": "Python 3 (ipykernel)",
   "language": "python",
   "name": "python3"
  },
  "language_info": {
   "codemirror_mode": {
    "name": "ipython",
    "version": 3
   },
   "file_extension": ".py",
   "mimetype": "text/x-python",
   "name": "python",
   "nbconvert_exporter": "python",
   "pygments_lexer": "ipython3",
   "version": "3.9.12"
  }
 },
 "nbformat": 4,
 "nbformat_minor": 5
}
