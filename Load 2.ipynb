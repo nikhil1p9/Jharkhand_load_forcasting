{
 "cells": [
  {
   "cell_type": "code",
   "execution_count": 1,
   "id": "cecbafd7",
   "metadata": {},
   "outputs": [],
   "source": [
    "import pandas as pd\n",
    "import numpy as np\n",
    "import matplotlib.pyplot as plt\n",
    "from statsmodels.tsa.arima_model import ARIMA\n",
    "from statsmodels.graphics.tsaplots import plot_acf, plot_pacf\n",
    "from sklearn.model_selection import train_test_split\n",
    "from sklearn.preprocessing import MinMaxScaler,StandardScaler\n",
    "from tensorflow.keras.models import Sequential\n",
    "from tensorflow.keras.layers import LSTM, Dense\n",
    "import seaborn as sns"
   ]
  },
  {
   "cell_type": "code",
   "execution_count": 11,
   "id": "ff3ad094",
   "metadata": {},
   "outputs": [],
   "source": [
    "from sklearn.metrics import mean_squared_error as mse"
   ]
  },
  {
   "cell_type": "code",
   "execution_count": 2,
   "id": "e361ab96",
   "metadata": {},
   "outputs": [],
   "source": [
    "data=pd.read_csv(\"C:/Users/91939/Downloads/jharkhand.csv\")"
   ]
  },
  {
   "cell_type": "code",
   "execution_count": 3,
   "id": "2ea322f1",
   "metadata": {},
   "outputs": [],
   "source": [
    "data['Timestamp']=pd.to_datetime(data.Timestamp)"
   ]
  },
  {
   "cell_type": "code",
   "execution_count": 4,
   "id": "a7e32882",
   "metadata": {},
   "outputs": [
    {
     "data": {
      "text/html": [
       "<div>\n",
       "<style scoped>\n",
       "    .dataframe tbody tr th:only-of-type {\n",
       "        vertical-align: middle;\n",
       "    }\n",
       "\n",
       "    .dataframe tbody tr th {\n",
       "        vertical-align: top;\n",
       "    }\n",
       "\n",
       "    .dataframe thead th {\n",
       "        text-align: right;\n",
       "    }\n",
       "</style>\n",
       "<table border=\"1\" class=\"dataframe\">\n",
       "  <thead>\n",
       "    <tr style=\"text-align: right;\">\n",
       "      <th></th>\n",
       "      <th>Timestamp</th>\n",
       "      <th>demand</th>\n",
       "    </tr>\n",
       "  </thead>\n",
       "  <tbody>\n",
       "    <tr>\n",
       "      <th>0</th>\n",
       "      <td>2022-04-01 00:00:00</td>\n",
       "      <td>63.1060</td>\n",
       "    </tr>\n",
       "    <tr>\n",
       "      <th>1</th>\n",
       "      <td>2022-04-01 00:15:00</td>\n",
       "      <td>67.4580</td>\n",
       "    </tr>\n",
       "    <tr>\n",
       "      <th>2</th>\n",
       "      <td>2022-04-01 00:30:00</td>\n",
       "      <td>52.4316</td>\n",
       "    </tr>\n",
       "    <tr>\n",
       "      <th>3</th>\n",
       "      <td>2022-04-01 00:45:00</td>\n",
       "      <td>54.9388</td>\n",
       "    </tr>\n",
       "    <tr>\n",
       "      <th>4</th>\n",
       "      <td>2022-04-01 01:00:00</td>\n",
       "      <td>57.2732</td>\n",
       "    </tr>\n",
       "  </tbody>\n",
       "</table>\n",
       "</div>"
      ],
      "text/plain": [
       "            Timestamp   demand\n",
       "0 2022-04-01 00:00:00  63.1060\n",
       "1 2022-04-01 00:15:00  67.4580\n",
       "2 2022-04-01 00:30:00  52.4316\n",
       "3 2022-04-01 00:45:00  54.9388\n",
       "4 2022-04-01 01:00:00  57.2732"
      ]
     },
     "execution_count": 4,
     "metadata": {},
     "output_type": "execute_result"
    }
   ],
   "source": [
    "data.head()"
   ]
  },
  {
   "cell_type": "code",
   "execution_count": 6,
   "id": "4bce9703",
   "metadata": {},
   "outputs": [],
   "source": [
    "df=data.loc[:479]"
   ]
  },
  {
   "cell_type": "code",
   "execution_count": 7,
   "id": "67fc3ff5",
   "metadata": {},
   "outputs": [],
   "source": [
    "df1=df['demand']\n",
    "dataset=df1.values\n",
    "dataset=dataset.astype('float32')"
   ]
  },
  {
   "cell_type": "code",
   "execution_count": 8,
   "id": "a0473f95",
   "metadata": {},
   "outputs": [],
   "source": [
    "train ,test=df.loc[:383], df.loc[384:]\n",
    "train_size=384\n",
    "test_size=96"
   ]
  },
  {
   "cell_type": "code",
   "execution_count": 36,
   "id": "3f3350b7",
   "metadata": {},
   "outputs": [],
   "source": [
    "scaler=MinMaxScaler(feature_range=(0,1))\n"
   ]
  },
  {
   "cell_type": "code",
   "execution_count": 37,
   "id": "d1d127df",
   "metadata": {
    "scrolled": true
   },
   "outputs": [
    {
     "name": "stderr",
     "output_type": "stream",
     "text": [
      "C:\\Users\\91939\\AppData\\Local\\Temp\\ipykernel_24316\\2245945729.py:1: SettingWithCopyWarning: \n",
      "A value is trying to be set on a copy of a slice from a DataFrame.\n",
      "Try using .loc[row_indexer,col_indexer] = value instead\n",
      "\n",
      "See the caveats in the documentation: https://pandas.pydata.org/pandas-docs/stable/user_guide/indexing.html#returning-a-view-versus-a-copy\n",
      "  train['demand']=scaler.fit_transform(train[['demand']])\n"
     ]
    }
   ],
   "source": [
    "train['demand']=scaler.fit_transform(train[['demand']])\n"
   ]
  },
  {
   "cell_type": "code",
   "execution_count": 38,
   "id": "4e2c1bc0",
   "metadata": {},
   "outputs": [
    {
     "data": {
      "text/html": [
       "<div>\n",
       "<style scoped>\n",
       "    .dataframe tbody tr th:only-of-type {\n",
       "        vertical-align: middle;\n",
       "    }\n",
       "\n",
       "    .dataframe tbody tr th {\n",
       "        vertical-align: top;\n",
       "    }\n",
       "\n",
       "    .dataframe thead th {\n",
       "        text-align: right;\n",
       "    }\n",
       "</style>\n",
       "<table border=\"1\" class=\"dataframe\">\n",
       "  <thead>\n",
       "    <tr style=\"text-align: right;\">\n",
       "      <th></th>\n",
       "      <th>Timestamp</th>\n",
       "      <th>demand</th>\n",
       "    </tr>\n",
       "  </thead>\n",
       "  <tbody>\n",
       "    <tr>\n",
       "      <th>0</th>\n",
       "      <td>2022-04-01 00:00:00</td>\n",
       "      <td>0.586769</td>\n",
       "    </tr>\n",
       "    <tr>\n",
       "      <th>1</th>\n",
       "      <td>2022-04-01 00:15:00</td>\n",
       "      <td>0.706947</td>\n",
       "    </tr>\n",
       "    <tr>\n",
       "      <th>2</th>\n",
       "      <td>2022-04-01 00:30:00</td>\n",
       "      <td>0.292004</td>\n",
       "    </tr>\n",
       "    <tr>\n",
       "      <th>3</th>\n",
       "      <td>2022-04-01 00:45:00</td>\n",
       "      <td>0.361238</td>\n",
       "    </tr>\n",
       "    <tr>\n",
       "      <th>4</th>\n",
       "      <td>2022-04-01 01:00:00</td>\n",
       "      <td>0.425701</td>\n",
       "    </tr>\n",
       "    <tr>\n",
       "      <th>...</th>\n",
       "      <td>...</td>\n",
       "      <td>...</td>\n",
       "    </tr>\n",
       "    <tr>\n",
       "      <th>379</th>\n",
       "      <td>2022-04-04 22:45:00</td>\n",
       "      <td>0.772249</td>\n",
       "    </tr>\n",
       "    <tr>\n",
       "      <th>380</th>\n",
       "      <td>2022-04-04 23:00:00</td>\n",
       "      <td>0.247799</td>\n",
       "    </tr>\n",
       "    <tr>\n",
       "      <th>381</th>\n",
       "      <td>2022-04-04 23:15:00</td>\n",
       "      <td>0.570002</td>\n",
       "    </tr>\n",
       "    <tr>\n",
       "      <th>382</th>\n",
       "      <td>2022-04-04 23:30:00</td>\n",
       "      <td>0.682149</td>\n",
       "    </tr>\n",
       "    <tr>\n",
       "      <th>383</th>\n",
       "      <td>2022-04-04 23:45:00</td>\n",
       "      <td>0.541913</td>\n",
       "    </tr>\n",
       "  </tbody>\n",
       "</table>\n",
       "<p>384 rows × 2 columns</p>\n",
       "</div>"
      ],
      "text/plain": [
       "              Timestamp    demand\n",
       "0   2022-04-01 00:00:00  0.586769\n",
       "1   2022-04-01 00:15:00  0.706947\n",
       "2   2022-04-01 00:30:00  0.292004\n",
       "3   2022-04-01 00:45:00  0.361238\n",
       "4   2022-04-01 01:00:00  0.425701\n",
       "..                  ...       ...\n",
       "379 2022-04-04 22:45:00  0.772249\n",
       "380 2022-04-04 23:00:00  0.247799\n",
       "381 2022-04-04 23:15:00  0.570002\n",
       "382 2022-04-04 23:30:00  0.682149\n",
       "383 2022-04-04 23:45:00  0.541913\n",
       "\n",
       "[384 rows x 2 columns]"
      ]
     },
     "execution_count": 38,
     "metadata": {},
     "output_type": "execute_result"
    }
   ],
   "source": [
    "train"
   ]
  },
  {
   "cell_type": "code",
   "execution_count": 39,
   "id": "13b624b2",
   "metadata": {
    "scrolled": false
   },
   "outputs": [
    {
     "name": "stderr",
     "output_type": "stream",
     "text": [
      "C:\\Users\\91939\\AppData\\Local\\Temp\\ipykernel_24316\\2619846879.py:1: SettingWithCopyWarning: \n",
      "A value is trying to be set on a copy of a slice from a DataFrame.\n",
      "Try using .loc[row_indexer,col_indexer] = value instead\n",
      "\n",
      "See the caveats in the documentation: https://pandas.pydata.org/pandas-docs/stable/user_guide/indexing.html#returning-a-view-versus-a-copy\n",
      "  test['demand']=scaler.fit_transform(test[['demand']])\n"
     ]
    }
   ],
   "source": [
    "test['demand']=scaler.fit_transform(test[['demand']])"
   ]
  },
  {
   "cell_type": "code",
   "execution_count": 40,
   "id": "b2e422ad",
   "metadata": {},
   "outputs": [],
   "source": [
    "seq_size=96"
   ]
  },
  {
   "cell_type": "code",
   "execution_count": 49,
   "id": "197a0974",
   "metadata": {},
   "outputs": [],
   "source": [
    "def to_sequences(x,y,seq_size):\n",
    "    x_values=[]\n",
    "    y_values=[]\n",
    "    for i in range(len(x)-seq_size):\n",
    "        x_values.append(x.iloc[i:(i+seq_size)].values)\n",
    "        y_values.append(y.iloc[(i+seq_size)])        \n",
    "    return np.array(x_values),np.array(y_values)"
   ]
  },
  {
   "cell_type": "code",
   "execution_count": 50,
   "id": "7d95ab66",
   "metadata": {},
   "outputs": [],
   "source": [
    "trainX,trainY=to_sequences(train[['demand']],train['demand'],seq_size)\n",
    "testX,testY=to_sequences(test[['demand']],test['demand'],seq_size)"
   ]
  },
  {
   "cell_type": "code",
   "execution_count": 51,
   "id": "56eb2b61",
   "metadata": {},
   "outputs": [
    {
     "data": {
      "text/plain": [
       "array([], dtype=float64)"
      ]
     },
     "execution_count": 51,
     "metadata": {},
     "output_type": "execute_result"
    }
   ],
   "source": [
    "testX"
   ]
  },
  {
   "cell_type": "code",
   "execution_count": 17,
   "id": "d93adf36",
   "metadata": {
    "scrolled": false
   },
   "outputs": [
    {
     "name": "stdout",
     "output_type": "stream",
     "text": [
      "Model: \"sequential\"\n",
      "_________________________________________________________________\n",
      " Layer (type)                Output Shape              Param #   \n",
      "=================================================================\n",
      " lstm (LSTM)                 (None, 64)                16896     \n",
      "                                                                 \n",
      " dense (Dense)               (None, 32)                2080      \n",
      "                                                                 \n",
      " dense_1 (Dense)             (None, 1)                 33        \n",
      "                                                                 \n",
      "=================================================================\n",
      "Total params: 19,009\n",
      "Trainable params: 19,009\n",
      "Non-trainable params: 0\n",
      "_________________________________________________________________\n"
     ]
    }
   ],
   "source": [
    "model = Sequential()\n",
    "model.add(LSTM(64, input_shape=(trainX.shape[1],trainX.shape[2])))\n",
    "model.add(Dense(32))\n",
    "model.add(Dense(1))\n",
    "\n",
    "#model.add(RepeatVector(trainX.shape[1]))\n",
    "\n",
    "model.compile(optimizer='adam', loss='mean_squared_error')\n",
    "model.summary()"
   ]
  },
  {
   "cell_type": "code",
   "execution_count": 18,
   "id": "f13cb5be",
   "metadata": {},
   "outputs": [
    {
     "ename": "IndexError",
     "evalue": "tuple index out of range",
     "output_type": "error",
     "traceback": [
      "\u001b[1;31m---------------------------------------------------------------------------\u001b[0m",
      "\u001b[1;31mIndexError\u001b[0m                                Traceback (most recent call last)",
      "Input \u001b[1;32mIn [18]\u001b[0m, in \u001b[0;36m<cell line: 2>\u001b[1;34m()\u001b[0m\n\u001b[0;32m      1\u001b[0m trainX\u001b[38;5;241m=\u001b[39mnp\u001b[38;5;241m.\u001b[39mreshape(trainX,(trainX\u001b[38;5;241m.\u001b[39mshape[\u001b[38;5;241m0\u001b[39m],\u001b[38;5;241m1\u001b[39m,trainX\u001b[38;5;241m.\u001b[39mshape[\u001b[38;5;241m1\u001b[39m]))\n\u001b[1;32m----> 2\u001b[0m testX\u001b[38;5;241m=\u001b[39mnp\u001b[38;5;241m.\u001b[39mreshape(testX,(testX\u001b[38;5;241m.\u001b[39mshape[\u001b[38;5;241m0\u001b[39m],\u001b[38;5;241m1\u001b[39m,\u001b[43mtestX\u001b[49m\u001b[38;5;241;43m.\u001b[39;49m\u001b[43mshape\u001b[49m\u001b[43m[\u001b[49m\u001b[38;5;241;43m1\u001b[39;49m\u001b[43m]\u001b[49m))\n",
      "\u001b[1;31mIndexError\u001b[0m: tuple index out of range"
     ]
    }
   ],
   "source": [
    "trainX=np.reshape(trainX,(trainX.shape[0],1,trainX.shape[1]))\n",
    "testX=np.reshape(testX,(testX.shape[0],1,testX.shape[1]))"
   ]
  },
  {
   "cell_type": "code",
   "execution_count": null,
   "id": "1b3f342f",
   "metadata": {},
   "outputs": [],
   "source": [
    "model.fit(trainX,trainY,validation_data=(testX,testY),verbose=2,epochs=100 )"
   ]
  },
  {
   "cell_type": "code",
   "execution_count": null,
   "id": "c74f4070",
   "metadata": {},
   "outputs": [],
   "source": [
    "trainPredict=model.predict(trainX)\n",
    "testPredict=model.predict(testX)"
   ]
  },
  {
   "cell_type": "code",
   "execution_count": 12,
   "id": "bd5783b1",
   "metadata": {},
   "outputs": [],
   "source": [
    "def prediction_plot(model,X,y,start=0,end=95):\n",
    "    predictions=model.predict(X).flatten\n",
    "    df=pd.DataFrame(data={'predicitions':predictions,'actual':y})\n",
    "    plt.plot(df['predictions'][start:end])\n",
    "    return df,mse(y,predictions)"
   ]
  },
  {
   "cell_type": "code",
   "execution_count": null,
   "id": "f555b120",
   "metadata": {},
   "outputs": [],
   "source": []
  }
 ],
 "metadata": {
  "kernelspec": {
   "display_name": "Python 3 (ipykernel)",
   "language": "python",
   "name": "python3"
  },
  "language_info": {
   "codemirror_mode": {
    "name": "ipython",
    "version": 3
   },
   "file_extension": ".py",
   "mimetype": "text/x-python",
   "name": "python",
   "nbconvert_exporter": "python",
   "pygments_lexer": "ipython3",
   "version": "3.9.12"
  }
 },
 "nbformat": 4,
 "nbformat_minor": 5
}
