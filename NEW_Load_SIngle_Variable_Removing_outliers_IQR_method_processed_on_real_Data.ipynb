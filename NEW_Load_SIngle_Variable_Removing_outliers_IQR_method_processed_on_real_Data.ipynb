{
 "cells": [
  {
   "cell_type": "code",
   "execution_count": 1,
   "id": "996dafca",
   "metadata": {},
   "outputs": [],
   "source": [
    "import pandas as pd\n",
    "import numpy as np\n",
    "import matplotlib.pyplot as plt\n",
    "from statsmodels.graphics.tsaplots import plot_acf, plot_pacf\n",
    "from sklearn.model_selection import train_test_split\n",
    "from sklearn.preprocessing import MinMaxScaler,StandardScaler\n",
    "from tensorflow.keras.models import Sequential\n",
    "from tensorflow.keras.layers import LSTM, Dense\n",
    "import seaborn as sns\n",
    "from sklearn.model_selection import train_test_split\n",
    "import math\n",
    "from sklearn.metrics import mean_squared_error"
   ]
  },
  {
   "cell_type": "code",
   "execution_count": 2,
   "id": "3098c339",
   "metadata": {},
   "outputs": [],
   "source": [
    "data=pd.read_excel(\"jharkhand.xlsx\")"
   ]
  },
  {
   "cell_type": "code",
   "execution_count": 3,
   "id": "6a8ef65c",
   "metadata": {},
   "outputs": [],
   "source": [
    "data['Timestamp']=pd.to_datetime(data.Timestamp)"
   ]
  },
  {
   "cell_type": "code",
   "execution_count": 4,
   "id": "6146faa5",
   "metadata": {
    "scrolled": true
   },
   "outputs": [
    {
     "name": "stderr",
     "output_type": "stream",
     "text": [
      "C:\\Users\\91939\\anaconda3\\lib\\site-packages\\seaborn\\_decorators.py:36: FutureWarning: Pass the following variable as a keyword arg: x. From version 0.12, the only valid positional argument will be `data`, and passing other arguments without an explicit keyword will result in an error or misinterpretation.\n",
      "  warnings.warn(\n"
     ]
    },
    {
     "data": {
      "text/plain": [
       "<AxesSubplot:xlabel='demand'>"
      ]
     },
     "execution_count": 4,
     "metadata": {},
     "output_type": "execute_result"
    },
    {
     "data": {
      "image/png": "[encoded data removed]",
      "text/plain": [
       "<Figure size 432x288 with 1 Axes>"
      ]
     },
     "metadata": {
      "needs_background": "light"
     },
     "output_type": "display_data"
    }
   ],
   "source": [
    "sns.boxplot(data['demand'])"
   ]
  },
  {
   "cell_type": "code",
   "execution_count": 5,
   "id": "2e9e93e3",
   "metadata": {},
   "outputs": [],
   "source": [
    "percentile25 = data['demand'].quantile(0.25)\n",
    "percentile75 = data['demand'].quantile(0.75)"
   ]
  },
  {
   "cell_type": "code",
   "execution_count": 6,
   "id": "78363a55",
   "metadata": {},
   "outputs": [],
   "source": [
    "iqr = percentile75 - percentile25\n",
    "upper_limit = percentile75 + 1.5 * iqr\n",
    "lower_limit = percentile25 - 1.5 * iqr"
   ]
  },
  {
   "cell_type": "code",
   "execution_count": 7,
   "id": "ff669d85",
   "metadata": {},
   "outputs": [],
   "source": [
    "new_df = data.copy()\n",
    "\n",
    "new_df['demand'] = np.where(\n",
    "    new_df['demand'] > upper_limit,\n",
    "    upper_limit,\n",
    "    np.where(\n",
    "        new_df['demand'] < lower_limit,\n",
    "        lower_limit,\n",
    "        new_df['demand']\n",
    "    )\n",
    ")"
   ]
  },
  {
   "cell_type": "code",
   "execution_count": 8,
   "id": "06821739",
   "metadata": {},
   "outputs": [
    {
     "name": "stderr",
     "output_type": "stream",
     "text": [
      "C:\\Users\\91939\\anaconda3\\lib\\site-packages\\seaborn\\_decorators.py:36: FutureWarning: Pass the following variable as a keyword arg: x. From version 0.12, the only valid positional argument will be `data`, and passing other arguments without an explicit keyword will result in an error or misinterpretation.\n",
      "  warnings.warn(\n"
     ]
    },
    {
     "data": {
      "text/plain": [
       "<AxesSubplot:xlabel='demand'>"
      ]
     },
     "execution_count": 8,
     "metadata": {},
     "output_type": "execute_result"
    },
    {
     "data": {
      "image/png": "[encoded data removed]",
      "text/plain": [
       "<Figure size 432x288 with 1 Axes>"
      ]
     },
     "metadata": {
      "needs_background": "light"
     },
     "output_type": "display_data"
    }
   ],
   "source": [
    "sns.boxplot(new_df['demand'])"
   ]
  },
  {
   "cell_type": "code",
   "execution_count": 9,
   "id": "d90223a8",
   "metadata": {},
   "outputs": [],
   "source": [
    "df=new_df.iloc[:]"
   ]
  },
  {
   "cell_type": "code",
   "execution_count": 10,
   "id": "bb2f7c59",
   "metadata": {},
   "outputs": [],
   "source": [
    "cols=list(df)[1:2]"
   ]
  },
  {
   "cell_type": "code",
   "execution_count": 11,
   "id": "2db4e86c",
   "metadata": {},
   "outputs": [],
   "source": [
    "dataset = df[cols].astype(float)"
   ]
  },
  {
   "cell_type": "code",
   "execution_count": 12,
   "id": "ab6cae6c",
   "metadata": {},
   "outputs": [],
   "source": [
    "scaler=MinMaxScaler(feature_range=(0,1))\n",
    "dataset=scaler.fit_transform(dataset)"
   ]
  },
  {
   "cell_type": "code",
   "execution_count": 13,
   "id": "8e17c48a",
   "metadata": {},
   "outputs": [],
   "source": [
    "# Using 400 days as train and 58 days for testing"
   ]
  },
  {
   "cell_type": "code",
   "execution_count": 14,
   "id": "bab95e9e",
   "metadata": {},
   "outputs": [],
   "source": [
    "train,test = dataset[:38400],dataset[38400:]"
   ]
  },
  {
   "cell_type": "code",
   "execution_count": 15,
   "id": "7627802f",
   "metadata": {},
   "outputs": [],
   "source": [
    "n_future=1\n",
    "n_past=96"
   ]
  },
  {
   "cell_type": "code",
   "execution_count": 16,
   "id": "b80ad596",
   "metadata": {},
   "outputs": [],
   "source": [
    "def splitter(dataset,seq_size):\n",
    "    X=[]\n",
    "    Y=[]\n",
    "    for i in range(len(dataset) - seq_size-1):\n",
    "        window=dataset[i:(i+seq_size),0]\n",
    "        X.append(window)\n",
    "        Y.append(dataset[i+seq_size,0])\n",
    "    return np.array(X),np.array(Y)\n"
   ]
  },
  {
   "cell_type": "code",
   "execution_count": 17,
   "id": "b044bce2",
   "metadata": {},
   "outputs": [],
   "source": [
    "seq_size=96"
   ]
  },
  {
   "cell_type": "code",
   "execution_count": 18,
   "id": "eab7e6b7",
   "metadata": {},
   "outputs": [],
   "source": [
    "trainX,trainY=splitter(train,seq_size)\n",
    "testX,testY=splitter(test,seq_size)"
   ]
  },
  {
   "cell_type": "code",
   "execution_count": 19,
   "id": "30102cd5",
   "metadata": {},
   "outputs": [
    {
     "data": {
      "text/html": [
       "<div>\n",
       "<style scoped>\n",
       "    .dataframe tbody tr th:only-of-type {\n",
       "        vertical-align: middle;\n",
       "    }\n",
       "\n",
       "    .dataframe tbody tr th {\n",
       "        vertical-align: top;\n",
       "    }\n",
       "\n",
       "    .dataframe thead th {\n",
       "        text-align: right;\n",
       "    }\n",
       "</style>\n",
       "<table border=\"1\" class=\"dataframe\">\n",
       "  <thead>\n",
       "    <tr style=\"text-align: right;\">\n",
       "      <th></th>\n",
       "      <th>0</th>\n",
       "      <th>1</th>\n",
       "      <th>2</th>\n",
       "      <th>3</th>\n",
       "      <th>4</th>\n",
       "      <th>5</th>\n",
       "      <th>6</th>\n",
       "      <th>7</th>\n",
       "      <th>8</th>\n",
       "      <th>9</th>\n",
       "      <th>...</th>\n",
       "      <th>87</th>\n",
       "      <th>88</th>\n",
       "      <th>89</th>\n",
       "      <th>90</th>\n",
       "      <th>91</th>\n",
       "      <th>92</th>\n",
       "      <th>93</th>\n",
       "      <th>94</th>\n",
       "      <th>95</th>\n",
       "      <th>96</th>\n",
       "    </tr>\n",
       "  </thead>\n",
       "  <tbody>\n",
       "    <tr>\n",
       "      <th>0</th>\n",
       "      <td>0.387527</td>\n",
       "      <td>0.439987</td>\n",
       "      <td>0.258854</td>\n",
       "      <td>0.289077</td>\n",
       "      <td>0.317216</td>\n",
       "      <td>0.299911</td>\n",
       "      <td>0.235040</td>\n",
       "      <td>0.231216</td>\n",
       "      <td>0.215319</td>\n",
       "      <td>0.157482</td>\n",
       "      <td>...</td>\n",
       "      <td>0.384692</td>\n",
       "      <td>0.426636</td>\n",
       "      <td>0.413617</td>\n",
       "      <td>0.434351</td>\n",
       "      <td>0.497525</td>\n",
       "      <td>0.458927</td>\n",
       "      <td>0.358109</td>\n",
       "      <td>0.340664</td>\n",
       "      <td>0.495914</td>\n",
       "      <td>0.443083</td>\n",
       "    </tr>\n",
       "    <tr>\n",
       "      <th>1</th>\n",
       "      <td>0.439987</td>\n",
       "      <td>0.258854</td>\n",
       "      <td>0.289077</td>\n",
       "      <td>0.317216</td>\n",
       "      <td>0.299911</td>\n",
       "      <td>0.235040</td>\n",
       "      <td>0.231216</td>\n",
       "      <td>0.215319</td>\n",
       "      <td>0.157482</td>\n",
       "      <td>0.209552</td>\n",
       "      <td>...</td>\n",
       "      <td>0.426636</td>\n",
       "      <td>0.413617</td>\n",
       "      <td>0.434351</td>\n",
       "      <td>0.497525</td>\n",
       "      <td>0.458927</td>\n",
       "      <td>0.358109</td>\n",
       "      <td>0.340664</td>\n",
       "      <td>0.495914</td>\n",
       "      <td>0.443083</td>\n",
       "      <td>0.474236</td>\n",
       "    </tr>\n",
       "    <tr>\n",
       "      <th>2</th>\n",
       "      <td>0.258854</td>\n",
       "      <td>0.289077</td>\n",
       "      <td>0.317216</td>\n",
       "      <td>0.299911</td>\n",
       "      <td>0.235040</td>\n",
       "      <td>0.231216</td>\n",
       "      <td>0.215319</td>\n",
       "      <td>0.157482</td>\n",
       "      <td>0.209552</td>\n",
       "      <td>0.196070</td>\n",
       "      <td>...</td>\n",
       "      <td>0.413617</td>\n",
       "      <td>0.434351</td>\n",
       "      <td>0.497525</td>\n",
       "      <td>0.458927</td>\n",
       "      <td>0.358109</td>\n",
       "      <td>0.340664</td>\n",
       "      <td>0.495914</td>\n",
       "      <td>0.443083</td>\n",
       "      <td>0.474236</td>\n",
       "      <td>0.422995</td>\n",
       "    </tr>\n",
       "    <tr>\n",
       "      <th>3</th>\n",
       "      <td>0.289077</td>\n",
       "      <td>0.317216</td>\n",
       "      <td>0.299911</td>\n",
       "      <td>0.235040</td>\n",
       "      <td>0.231216</td>\n",
       "      <td>0.215319</td>\n",
       "      <td>0.157482</td>\n",
       "      <td>0.209552</td>\n",
       "      <td>0.196070</td>\n",
       "      <td>0.236838</td>\n",
       "      <td>...</td>\n",
       "      <td>0.434351</td>\n",
       "      <td>0.497525</td>\n",
       "      <td>0.458927</td>\n",
       "      <td>0.358109</td>\n",
       "      <td>0.340664</td>\n",
       "      <td>0.495914</td>\n",
       "      <td>0.443083</td>\n",
       "      <td>0.474236</td>\n",
       "      <td>0.422995</td>\n",
       "      <td>0.452201</td>\n",
       "    </tr>\n",
       "    <tr>\n",
       "      <th>4</th>\n",
       "      <td>0.317216</td>\n",
       "      <td>0.299911</td>\n",
       "      <td>0.235040</td>\n",
       "      <td>0.231216</td>\n",
       "      <td>0.215319</td>\n",
       "      <td>0.157482</td>\n",
       "      <td>0.209552</td>\n",
       "      <td>0.196070</td>\n",
       "      <td>0.236838</td>\n",
       "      <td>0.290142</td>\n",
       "      <td>...</td>\n",
       "      <td>0.497525</td>\n",
       "      <td>0.458927</td>\n",
       "      <td>0.358109</td>\n",
       "      <td>0.340664</td>\n",
       "      <td>0.495914</td>\n",
       "      <td>0.443083</td>\n",
       "      <td>0.474236</td>\n",
       "      <td>0.422995</td>\n",
       "      <td>0.452201</td>\n",
       "      <td>0.403448</td>\n",
       "    </tr>\n",
       "    <tr>\n",
       "      <th>...</th>\n",
       "      <td>...</td>\n",
       "      <td>...</td>\n",
       "      <td>...</td>\n",
       "      <td>...</td>\n",
       "      <td>...</td>\n",
       "      <td>...</td>\n",
       "      <td>...</td>\n",
       "      <td>...</td>\n",
       "      <td>...</td>\n",
       "      <td>...</td>\n",
       "      <td>...</td>\n",
       "      <td>...</td>\n",
       "      <td>...</td>\n",
       "      <td>...</td>\n",
       "      <td>...</td>\n",
       "      <td>...</td>\n",
       "      <td>...</td>\n",
       "      <td>...</td>\n",
       "      <td>...</td>\n",
       "      <td>...</td>\n",
       "      <td>...</td>\n",
       "    </tr>\n",
       "    <tr>\n",
       "      <th>38298</th>\n",
       "      <td>0.943106</td>\n",
       "      <td>1.000000</td>\n",
       "      <td>0.983565</td>\n",
       "      <td>0.953910</td>\n",
       "      <td>1.000000</td>\n",
       "      <td>1.000000</td>\n",
       "      <td>1.000000</td>\n",
       "      <td>1.000000</td>\n",
       "      <td>1.000000</td>\n",
       "      <td>0.995966</td>\n",
       "      <td>...</td>\n",
       "      <td>1.000000</td>\n",
       "      <td>1.000000</td>\n",
       "      <td>1.000000</td>\n",
       "      <td>1.000000</td>\n",
       "      <td>1.000000</td>\n",
       "      <td>1.000000</td>\n",
       "      <td>1.000000</td>\n",
       "      <td>0.993327</td>\n",
       "      <td>0.818662</td>\n",
       "      <td>0.839572</td>\n",
       "    </tr>\n",
       "    <tr>\n",
       "      <th>38299</th>\n",
       "      <td>1.000000</td>\n",
       "      <td>0.983565</td>\n",
       "      <td>0.953910</td>\n",
       "      <td>1.000000</td>\n",
       "      <td>1.000000</td>\n",
       "      <td>1.000000</td>\n",
       "      <td>1.000000</td>\n",
       "      <td>1.000000</td>\n",
       "      <td>0.995966</td>\n",
       "      <td>1.000000</td>\n",
       "      <td>...</td>\n",
       "      <td>1.000000</td>\n",
       "      <td>1.000000</td>\n",
       "      <td>1.000000</td>\n",
       "      <td>1.000000</td>\n",
       "      <td>1.000000</td>\n",
       "      <td>1.000000</td>\n",
       "      <td>0.993327</td>\n",
       "      <td>0.818662</td>\n",
       "      <td>0.839572</td>\n",
       "      <td>0.891579</td>\n",
       "    </tr>\n",
       "    <tr>\n",
       "      <th>38300</th>\n",
       "      <td>0.983565</td>\n",
       "      <td>0.953910</td>\n",
       "      <td>1.000000</td>\n",
       "      <td>1.000000</td>\n",
       "      <td>1.000000</td>\n",
       "      <td>1.000000</td>\n",
       "      <td>1.000000</td>\n",
       "      <td>0.995966</td>\n",
       "      <td>1.000000</td>\n",
       "      <td>1.000000</td>\n",
       "      <td>...</td>\n",
       "      <td>1.000000</td>\n",
       "      <td>1.000000</td>\n",
       "      <td>1.000000</td>\n",
       "      <td>1.000000</td>\n",
       "      <td>1.000000</td>\n",
       "      <td>0.993327</td>\n",
       "      <td>0.818662</td>\n",
       "      <td>0.839572</td>\n",
       "      <td>0.891579</td>\n",
       "      <td>0.898811</td>\n",
       "    </tr>\n",
       "    <tr>\n",
       "      <th>38301</th>\n",
       "      <td>0.953910</td>\n",
       "      <td>1.000000</td>\n",
       "      <td>1.000000</td>\n",
       "      <td>1.000000</td>\n",
       "      <td>1.000000</td>\n",
       "      <td>1.000000</td>\n",
       "      <td>0.995966</td>\n",
       "      <td>1.000000</td>\n",
       "      <td>1.000000</td>\n",
       "      <td>1.000000</td>\n",
       "      <td>...</td>\n",
       "      <td>1.000000</td>\n",
       "      <td>1.000000</td>\n",
       "      <td>1.000000</td>\n",
       "      <td>1.000000</td>\n",
       "      <td>0.993327</td>\n",
       "      <td>0.818662</td>\n",
       "      <td>0.839572</td>\n",
       "      <td>0.891579</td>\n",
       "      <td>0.898811</td>\n",
       "      <td>0.917228</td>\n",
       "    </tr>\n",
       "    <tr>\n",
       "      <th>38302</th>\n",
       "      <td>1.000000</td>\n",
       "      <td>1.000000</td>\n",
       "      <td>1.000000</td>\n",
       "      <td>1.000000</td>\n",
       "      <td>1.000000</td>\n",
       "      <td>0.995966</td>\n",
       "      <td>1.000000</td>\n",
       "      <td>1.000000</td>\n",
       "      <td>1.000000</td>\n",
       "      <td>1.000000</td>\n",
       "      <td>...</td>\n",
       "      <td>1.000000</td>\n",
       "      <td>1.000000</td>\n",
       "      <td>1.000000</td>\n",
       "      <td>0.993327</td>\n",
       "      <td>0.818662</td>\n",
       "      <td>0.839572</td>\n",
       "      <td>0.891579</td>\n",
       "      <td>0.898811</td>\n",
       "      <td>0.917228</td>\n",
       "      <td>1.000000</td>\n",
       "    </tr>\n",
       "  </tbody>\n",
       "</table>\n",
       "<p>38303 rows × 97 columns</p>\n",
       "</div>"
      ],
      "text/plain": [
       "              0         1         2         3         4         5         6  \\\n",
       "0      0.387527  0.439987  0.258854  0.289077  0.317216  0.299911  0.235040   \n",
       "1      0.439987  0.258854  0.289077  0.317216  0.299911  0.235040  0.231216   \n",
       "2      0.258854  0.289077  0.317216  0.299911  0.235040  0.231216  0.215319   \n",
       "3      0.289077  0.317216  0.299911  0.235040  0.231216  0.215319  0.157482   \n",
       "4      0.317216  0.299911  0.235040  0.231216  0.215319  0.157482  0.209552   \n",
       "...         ...       ...       ...       ...       ...       ...       ...   \n",
       "38298  0.943106  1.000000  0.983565  0.953910  1.000000  1.000000  1.000000   \n",
       "38299  1.000000  0.983565  0.953910  1.000000  1.000000  1.000000  1.000000   \n",
       "38300  0.983565  0.953910  1.000000  1.000000  1.000000  1.000000  1.000000   \n",
       "38301  0.953910  1.000000  1.000000  1.000000  1.000000  1.000000  0.995966   \n",
       "38302  1.000000  1.000000  1.000000  1.000000  1.000000  0.995966  1.000000   \n",
       "\n",
       "              7         8         9  ...        87        88        89  \\\n",
       "0      0.231216  0.215319  0.157482  ...  0.384692  0.426636  0.413617   \n",
       "1      0.215319  0.157482  0.209552  ...  0.426636  0.413617  0.434351   \n",
       "2      0.157482  0.209552  0.196070  ...  0.413617  0.434351  0.497525   \n",
       "3      0.209552  0.196070  0.236838  ...  0.434351  0.497525  0.458927   \n",
       "4      0.196070  0.236838  0.290142  ...  0.497525  0.458927  0.358109   \n",
       "...         ...       ...       ...  ...       ...       ...       ...   \n",
       "38298  1.000000  1.000000  0.995966  ...  1.000000  1.000000  1.000000   \n",
       "38299  1.000000  0.995966  1.000000  ...  1.000000  1.000000  1.000000   \n",
       "38300  0.995966  1.000000  1.000000  ...  1.000000  1.000000  1.000000   \n",
       "38301  1.000000  1.000000  1.000000  ...  1.000000  1.000000  1.000000   \n",
       "38302  1.000000  1.000000  1.000000  ...  1.000000  1.000000  1.000000   \n",
       "\n",
       "             90        91        92        93        94        95        96  \n",
       "0      0.434351  0.497525  0.458927  0.358109  0.340664  0.495914  0.443083  \n",
       "1      0.497525  0.458927  0.358109  0.340664  0.495914  0.443083  0.474236  \n",
       "2      0.458927  0.358109  0.340664  0.495914  0.443083  0.474236  0.422995  \n",
       "3      0.358109  0.340664  0.495914  0.443083  0.474236  0.422995  0.452201  \n",
       "4      0.340664  0.495914  0.443083  0.474236  0.422995  0.452201  0.403448  \n",
       "...         ...       ...       ...       ...       ...       ...       ...  \n",
       "38298  1.000000  1.000000  1.000000  1.000000  0.993327  0.818662  0.839572  \n",
       "38299  1.000000  1.000000  1.000000  0.993327  0.818662  0.839572  0.891579  \n",
       "38300  1.000000  1.000000  0.993327  0.818662  0.839572  0.891579  0.898811  \n",
       "38301  1.000000  0.993327  0.818662  0.839572  0.891579  0.898811  0.917228  \n",
       "38302  0.993327  0.818662  0.839572  0.891579  0.898811  0.917228  1.000000  \n",
       "\n",
       "[38303 rows x 97 columns]"
      ]
     },
     "execution_count": 19,
     "metadata": {},
     "output_type": "execute_result"
    }
   ],
   "source": [
    "f = pd.DataFrame(trainX)\n",
    "f['96'] = trainY\n",
    "f"
   ]
  },
  {
   "cell_type": "code",
   "execution_count": 20,
   "id": "cf08b982",
   "metadata": {},
   "outputs": [],
   "source": [
    "trainX = np.reshape(trainX,(trainX.shape[0],1,trainX.shape[1]))\n",
    "testX = np.reshape(testX,(testX.shape[0],1,testX.shape[1]))"
   ]
  },
  {
   "cell_type": "code",
   "execution_count": 21,
   "id": "4d3e8467",
   "metadata": {},
   "outputs": [],
   "source": [
    "model=Sequential()\n",
    "model.add(LSTM(50,activation='relu',return_sequences=True, input_shape=(None,seq_size)))\n",
    "model.add(LSTM(50,activation='relu'))\n",
    "model.add(Dense(32))\n",
    "model.add(Dense(1))\n",
    "\n",
    "model.compile(optimizer='adam',loss='mean_squared_error')\n"
   ]
  },
  {
   "cell_type": "code",
   "execution_count": 22,
   "id": "f8a66d57",
   "metadata": {},
   "outputs": [
    {
     "name": "stdout",
     "output_type": "stream",
     "text": [
      "Epoch 1/2\n",
      "1197/1197 - 12s - loss: 0.0101 - val_loss: 0.0036 - 12s/epoch - 10ms/step\n",
      "Epoch 2/2\n",
      "1197/1197 - 5s - loss: 0.0070 - val_loss: 0.0033 - 5s/epoch - 5ms/step\n"
     ]
    },
    {
     "data": {
      "text/plain": [
       "<keras.callbacks.History at 0x2a73a8c1280>"
      ]
     },
     "execution_count": 22,
     "metadata": {},
     "output_type": "execute_result"
    }
   ],
   "source": [
    "model.fit(trainX,trainY,validation_data=(testX,testY),verbose=2,epochs=2)"
   ]
  },
  {
   "cell_type": "code",
   "execution_count": 23,
   "id": "362a090e",
   "metadata": {},
   "outputs": [
    {
     "name": "stdout",
     "output_type": "stream",
     "text": [
      "1197/1197 [==============================] - 4s 3ms/step\n",
      "171/171 [==============================] - 0s 3ms/step\n"
     ]
    }
   ],
   "source": [
    "trainPredict = model.predict(trainX)\n",
    "testPredict = model.predict(testX)"
   ]
  },
  {
   "cell_type": "code",
   "execution_count": 24,
   "id": "d2349bfd",
   "metadata": {
    "scrolled": false
   },
   "outputs": [],
   "source": [
    "trainPredict = scaler.inverse_transform(trainPredict)\n",
    "trainY = scaler.inverse_transform([trainY])\n",
    "testPredict = scaler.inverse_transform(testPredict)\n",
    "testY = scaler.inverse_transform([testY])"
   ]
  },
  {
   "cell_type": "code",
   "execution_count": 41,
   "id": "6759f2f7",
   "metadata": {},
   "outputs": [
    {
     "data": {
      "text/plain": [
       "array([[0.38752685],\n",
       "       [0.43998726],\n",
       "       [0.2588542 ],\n",
       "       ...,\n",
       "       [1.        ],\n",
       "       [1.        ],\n",
       "       [1.        ]])"
      ]
     },
     "execution_count": 41,
     "metadata": {},
     "output_type": "execute_result"
    }
   ],
   "source": [
    "dataset"
   ]
  },
  {
   "cell_type": "code",
   "execution_count": 26,
   "id": "d18e4a72",
   "metadata": {},
   "outputs": [
    {
     "data": {
      "image/png": "[encoded data removed]",
      "text/plain": [
       "<Figure size 1152x576 with 1 Axes>"
      ]
     },
     "metadata": {
      "needs_background": "light"
     },
     "output_type": "display_data"
    }
   ],
   "source": [
    "trainPredictPlot = np.empty_like(dataset)\n",
    "trainPredictPlot[:, :] = np.nan\n",
    "trainPredictPlot[seq_size:len(trainPredict)+seq_size, :] = trainPredict\n",
    "\n",
    "# shift test predictions for plotting\n",
    "testPredictPlot = np.empty_like(dataset)\n",
    "testPredictPlot[:, :] = np.nan\n",
    "testPredictPlot[len(trainPredict)+(seq_size*2)+1:len(dataset)-1, :] = testPredict\n",
    "\n",
    "# plot baseline and predictions\n",
    "plt.figure(figsize=(16,8))\n",
    "plt.plot(scaler.inverse_transform(dataset))\n",
    "plt.plot(trainPredictPlot)\n",
    "plt.plot(testPredictPlot)\n",
    "plt.show()"
   ]
  },
  {
   "cell_type": "code",
   "execution_count": 27,
   "id": "813b0e34",
   "metadata": {},
   "outputs": [],
   "source": [
    "def mean_squared_percentage_error(y_true, y_pred):\n",
    "    y_true, y_pred = np.array(y_true), np.array(y_pred)\n",
    "    return np.mean(np.square((y_true - y_pred) / y_true)) * 100"
   ]
  },
  {
   "cell_type": "code",
   "execution_count": 28,
   "id": "a8145581",
   "metadata": {
    "scrolled": true
   },
   "outputs": [
    {
     "name": "stdout",
     "output_type": "stream",
     "text": [
      "Mean Squared Percentage Error: 0.27%\n"
     ]
    }
   ],
   "source": [
    "mspe = mean_squared_percentage_error(testY[0],testPredict[:,0])\n",
    "print(f'Mean Squared Percentage Error: {mspe:.2f}%')"
   ]
  },
  {
   "cell_type": "code",
   "execution_count": null,
   "id": "d59fcd0e",
   "metadata": {},
   "outputs": [],
   "source": []
  }
 ],
 "metadata": {
  "kernelspec": {
   "display_name": "Python 3 (ipykernel)",
   "language": "python",
   "name": "python3"
  },
  "language_info": {
   "codemirror_mode": {
    "name": "ipython",
    "version": 3
   },
   "file_extension": ".py",
   "mimetype": "text/x-python",
   "name": "python",
   "nbconvert_exporter": "python",
   "pygments_lexer": "ipython3",
   "version": "3.9.12"
  }
 },
 "nbformat": 4,
 "nbformat_minor": 5
}
