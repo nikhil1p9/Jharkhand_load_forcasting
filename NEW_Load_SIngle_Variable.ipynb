{
 "cells": [
  {
   "cell_type": "code",
   "execution_count": 1,
   "id": "996dafca",
   "metadata": {},
   "outputs": [],
   "source": [
    "import pandas as pd\n",
    "import numpy as np\n",
    "import matplotlib.pyplot as plt\n",
    "from statsmodels.graphics.tsaplots import plot_acf, plot_pacf\n",
    "from sklearn.model_selection import train_test_split\n",
    "from sklearn.preprocessing import MinMaxScaler,StandardScaler\n",
    "from tensorflow.keras.models import Sequential\n",
    "from tensorflow.keras.layers import LSTM, Dense\n",
    "import seaborn as sns\n",
    "from sklearn.model_selection import train_test_split\n",
    "import math\n",
    "from sklearn.metrics import mean_squared_error"
   ]
  },
  {
   "cell_type": "code",
   "execution_count": 2,
   "id": "3098c339",
   "metadata": {},
   "outputs": [],
   "source": [
    "data=pd.read_excel(\"jharkhand.xlsx\")"
   ]
  },
  {
   "cell_type": "code",
   "execution_count": 3,
   "id": "6a8ef65c",
   "metadata": {},
   "outputs": [],
   "source": [
    "data['Timestamp']=pd.to_datetime(data.Timestamp)"
   ]
  },
  {
   "cell_type": "code",
   "execution_count": 4,
   "id": "d90223a8",
   "metadata": {},
   "outputs": [],
   "source": [
    "df=data.iloc[:]"
   ]
  },
  {
   "cell_type": "code",
   "execution_count": 5,
   "id": "bb2f7c59",
   "metadata": {},
   "outputs": [],
   "source": [
    "cols=list(df)[1:2]"
   ]
  },
  {
   "cell_type": "code",
   "execution_count": 6,
   "id": "2db4e86c",
   "metadata": {},
   "outputs": [],
   "source": [
    "dataset = df[cols].astype(float)"
   ]
  },
  {
   "cell_type": "code",
   "execution_count": 7,
   "id": "ab6cae6c",
   "metadata": {},
   "outputs": [],
   "source": [
    "scaler=MinMaxScaler(feature_range=(0,1))\n",
    "dataset=scaler.fit_transform(dataset)"
   ]
  },
  {
   "cell_type": "code",
   "execution_count": null,
   "id": "8e17c48a",
   "metadata": {},
   "outputs": [],
   "source": [
    "# Using 400 days as train and 58 days for testing"
   ]
  },
  {
   "cell_type": "code",
   "execution_count": 8,
   "id": "bab95e9e",
   "metadata": {},
   "outputs": [],
   "source": [
    "train,test = dataset[:38400],dataset[38400:]"
   ]
  },
  {
   "cell_type": "code",
   "execution_count": 9,
   "id": "7627802f",
   "metadata": {},
   "outputs": [],
   "source": [
    "n_future=1\n",
    "n_past=96"
   ]
  },
  {
   "cell_type": "code",
   "execution_count": 10,
   "id": "b80ad596",
   "metadata": {},
   "outputs": [],
   "source": [
    "def splitter(dataset,seq_size):\n",
    "    X=[]\n",
    "    Y=[]\n",
    "    for i in range(len(dataset) - seq_size-1):\n",
    "        window=dataset[i:(i+seq_size),0]\n",
    "        X.append(window)\n",
    "        Y.append(dataset[i+seq_size,0])\n",
    "    return np.array(X),np.array(Y)\n"
   ]
  },
  {
   "cell_type": "code",
   "execution_count": 11,
   "id": "b044bce2",
   "metadata": {},
   "outputs": [],
   "source": [
    "seq_size=96"
   ]
  },
  {
   "cell_type": "code",
   "execution_count": 12,
   "id": "eab7e6b7",
   "metadata": {},
   "outputs": [],
   "source": [
    "trainX,trainY=splitter(train,seq_size)\n",
    "testX,testY=splitter(test,seq_size)"
   ]
  },
  {
   "cell_type": "code",
   "execution_count": 13,
   "id": "30102cd5",
   "metadata": {},
   "outputs": [
    {
     "data": {
      "text/html": [
       "<div>\n",
       "<style scoped>\n",
       "    .dataframe tbody tr th:only-of-type {\n",
       "        vertical-align: middle;\n",
       "    }\n",
       "\n",
       "    .dataframe tbody tr th {\n",
       "        vertical-align: top;\n",
       "    }\n",
       "\n",
       "    .dataframe thead th {\n",
       "        text-align: right;\n",
       "    }\n",
       "</style>\n",
       "<table border=\"1\" class=\"dataframe\">\n",
       "  <thead>\n",
       "    <tr style=\"text-align: right;\">\n",
       "      <th></th>\n",
       "      <th>0</th>\n",
       "      <th>1</th>\n",
       "      <th>2</th>\n",
       "      <th>3</th>\n",
       "      <th>4</th>\n",
       "      <th>5</th>\n",
       "      <th>6</th>\n",
       "      <th>7</th>\n",
       "      <th>8</th>\n",
       "      <th>9</th>\n",
       "      <th>...</th>\n",
       "      <th>87</th>\n",
       "      <th>88</th>\n",
       "      <th>89</th>\n",
       "      <th>90</th>\n",
       "      <th>91</th>\n",
       "      <th>92</th>\n",
       "      <th>93</th>\n",
       "      <th>94</th>\n",
       "      <th>95</th>\n",
       "      <th>96</th>\n",
       "    </tr>\n",
       "  </thead>\n",
       "  <tbody>\n",
       "    <tr>\n",
       "      <th>0</th>\n",
       "      <td>0.266341</td>\n",
       "      <td>0.301877</td>\n",
       "      <td>0.179182</td>\n",
       "      <td>0.199654</td>\n",
       "      <td>0.218715</td>\n",
       "      <td>0.206993</td>\n",
       "      <td>0.163051</td>\n",
       "      <td>0.160461</td>\n",
       "      <td>0.149692</td>\n",
       "      <td>0.110515</td>\n",
       "      <td>...</td>\n",
       "      <td>0.264421</td>\n",
       "      <td>0.292833</td>\n",
       "      <td>0.284014</td>\n",
       "      <td>0.298059</td>\n",
       "      <td>0.340851</td>\n",
       "      <td>0.314706</td>\n",
       "      <td>0.246415</td>\n",
       "      <td>0.234598</td>\n",
       "      <td>0.339760</td>\n",
       "      <td>0.303974</td>\n",
       "    </tr>\n",
       "    <tr>\n",
       "      <th>1</th>\n",
       "      <td>0.301877</td>\n",
       "      <td>0.179182</td>\n",
       "      <td>0.199654</td>\n",
       "      <td>0.218715</td>\n",
       "      <td>0.206993</td>\n",
       "      <td>0.163051</td>\n",
       "      <td>0.160461</td>\n",
       "      <td>0.149692</td>\n",
       "      <td>0.110515</td>\n",
       "      <td>0.145786</td>\n",
       "      <td>...</td>\n",
       "      <td>0.292833</td>\n",
       "      <td>0.284014</td>\n",
       "      <td>0.298059</td>\n",
       "      <td>0.340851</td>\n",
       "      <td>0.314706</td>\n",
       "      <td>0.246415</td>\n",
       "      <td>0.234598</td>\n",
       "      <td>0.339760</td>\n",
       "      <td>0.303974</td>\n",
       "      <td>0.325076</td>\n",
       "    </tr>\n",
       "    <tr>\n",
       "      <th>2</th>\n",
       "      <td>0.179182</td>\n",
       "      <td>0.199654</td>\n",
       "      <td>0.218715</td>\n",
       "      <td>0.206993</td>\n",
       "      <td>0.163051</td>\n",
       "      <td>0.160461</td>\n",
       "      <td>0.149692</td>\n",
       "      <td>0.110515</td>\n",
       "      <td>0.145786</td>\n",
       "      <td>0.136654</td>\n",
       "      <td>...</td>\n",
       "      <td>0.284014</td>\n",
       "      <td>0.298059</td>\n",
       "      <td>0.340851</td>\n",
       "      <td>0.314706</td>\n",
       "      <td>0.246415</td>\n",
       "      <td>0.234598</td>\n",
       "      <td>0.339760</td>\n",
       "      <td>0.303974</td>\n",
       "      <td>0.325076</td>\n",
       "      <td>0.290367</td>\n",
       "    </tr>\n",
       "    <tr>\n",
       "      <th>3</th>\n",
       "      <td>0.199654</td>\n",
       "      <td>0.218715</td>\n",
       "      <td>0.206993</td>\n",
       "      <td>0.163051</td>\n",
       "      <td>0.160461</td>\n",
       "      <td>0.149692</td>\n",
       "      <td>0.110515</td>\n",
       "      <td>0.145786</td>\n",
       "      <td>0.136654</td>\n",
       "      <td>0.164269</td>\n",
       "      <td>...</td>\n",
       "      <td>0.298059</td>\n",
       "      <td>0.340851</td>\n",
       "      <td>0.314706</td>\n",
       "      <td>0.246415</td>\n",
       "      <td>0.234598</td>\n",
       "      <td>0.339760</td>\n",
       "      <td>0.303974</td>\n",
       "      <td>0.325076</td>\n",
       "      <td>0.290367</td>\n",
       "      <td>0.310150</td>\n",
       "    </tr>\n",
       "    <tr>\n",
       "      <th>4</th>\n",
       "      <td>0.218715</td>\n",
       "      <td>0.206993</td>\n",
       "      <td>0.163051</td>\n",
       "      <td>0.160461</td>\n",
       "      <td>0.149692</td>\n",
       "      <td>0.110515</td>\n",
       "      <td>0.145786</td>\n",
       "      <td>0.136654</td>\n",
       "      <td>0.164269</td>\n",
       "      <td>0.200376</td>\n",
       "      <td>...</td>\n",
       "      <td>0.340851</td>\n",
       "      <td>0.314706</td>\n",
       "      <td>0.246415</td>\n",
       "      <td>0.234598</td>\n",
       "      <td>0.339760</td>\n",
       "      <td>0.303974</td>\n",
       "      <td>0.325076</td>\n",
       "      <td>0.290367</td>\n",
       "      <td>0.310150</td>\n",
       "      <td>0.277126</td>\n",
       "    </tr>\n",
       "    <tr>\n",
       "      <th>...</th>\n",
       "      <td>...</td>\n",
       "      <td>...</td>\n",
       "      <td>...</td>\n",
       "      <td>...</td>\n",
       "      <td>...</td>\n",
       "      <td>...</td>\n",
       "      <td>...</td>\n",
       "      <td>...</td>\n",
       "      <td>...</td>\n",
       "      <td>...</td>\n",
       "      <td>...</td>\n",
       "      <td>...</td>\n",
       "      <td>...</td>\n",
       "      <td>...</td>\n",
       "      <td>...</td>\n",
       "      <td>...</td>\n",
       "      <td>...</td>\n",
       "      <td>...</td>\n",
       "      <td>...</td>\n",
       "      <td>...</td>\n",
       "      <td>...</td>\n",
       "    </tr>\n",
       "    <tr>\n",
       "      <th>38298</th>\n",
       "      <td>0.642676</td>\n",
       "      <td>0.709114</td>\n",
       "      <td>0.670082</td>\n",
       "      <td>0.649994</td>\n",
       "      <td>0.697505</td>\n",
       "      <td>0.703520</td>\n",
       "      <td>0.702173</td>\n",
       "      <td>0.822331</td>\n",
       "      <td>0.707753</td>\n",
       "      <td>0.678482</td>\n",
       "      <td>...</td>\n",
       "      <td>0.875958</td>\n",
       "      <td>0.772566</td>\n",
       "      <td>0.851645</td>\n",
       "      <td>0.786918</td>\n",
       "      <td>0.842311</td>\n",
       "      <td>0.751283</td>\n",
       "      <td>0.728572</td>\n",
       "      <td>0.676694</td>\n",
       "      <td>0.558381</td>\n",
       "      <td>0.572545</td>\n",
       "    </tr>\n",
       "    <tr>\n",
       "      <th>38299</th>\n",
       "      <td>0.709114</td>\n",
       "      <td>0.670082</td>\n",
       "      <td>0.649994</td>\n",
       "      <td>0.697505</td>\n",
       "      <td>0.703520</td>\n",
       "      <td>0.702173</td>\n",
       "      <td>0.822331</td>\n",
       "      <td>0.707753</td>\n",
       "      <td>0.678482</td>\n",
       "      <td>0.685340</td>\n",
       "      <td>...</td>\n",
       "      <td>0.772566</td>\n",
       "      <td>0.851645</td>\n",
       "      <td>0.786918</td>\n",
       "      <td>0.842311</td>\n",
       "      <td>0.751283</td>\n",
       "      <td>0.728572</td>\n",
       "      <td>0.676694</td>\n",
       "      <td>0.558381</td>\n",
       "      <td>0.572545</td>\n",
       "      <td>0.607773</td>\n",
       "    </tr>\n",
       "    <tr>\n",
       "      <th>38300</th>\n",
       "      <td>0.670082</td>\n",
       "      <td>0.649994</td>\n",
       "      <td>0.697505</td>\n",
       "      <td>0.703520</td>\n",
       "      <td>0.702173</td>\n",
       "      <td>0.822331</td>\n",
       "      <td>0.707753</td>\n",
       "      <td>0.678482</td>\n",
       "      <td>0.685340</td>\n",
       "      <td>0.713194</td>\n",
       "      <td>...</td>\n",
       "      <td>0.851645</td>\n",
       "      <td>0.786918</td>\n",
       "      <td>0.842311</td>\n",
       "      <td>0.751283</td>\n",
       "      <td>0.728572</td>\n",
       "      <td>0.676694</td>\n",
       "      <td>0.558381</td>\n",
       "      <td>0.572545</td>\n",
       "      <td>0.607773</td>\n",
       "      <td>0.612672</td>\n",
       "    </tr>\n",
       "    <tr>\n",
       "      <th>38301</th>\n",
       "      <td>0.649994</td>\n",
       "      <td>0.697505</td>\n",
       "      <td>0.703520</td>\n",
       "      <td>0.702173</td>\n",
       "      <td>0.822331</td>\n",
       "      <td>0.707753</td>\n",
       "      <td>0.678482</td>\n",
       "      <td>0.685340</td>\n",
       "      <td>0.713194</td>\n",
       "      <td>0.769565</td>\n",
       "      <td>...</td>\n",
       "      <td>0.786918</td>\n",
       "      <td>0.842311</td>\n",
       "      <td>0.751283</td>\n",
       "      <td>0.728572</td>\n",
       "      <td>0.676694</td>\n",
       "      <td>0.558381</td>\n",
       "      <td>0.572545</td>\n",
       "      <td>0.607773</td>\n",
       "      <td>0.612672</td>\n",
       "      <td>0.625147</td>\n",
       "    </tr>\n",
       "    <tr>\n",
       "      <th>38302</th>\n",
       "      <td>0.697505</td>\n",
       "      <td>0.703520</td>\n",
       "      <td>0.702173</td>\n",
       "      <td>0.822331</td>\n",
       "      <td>0.707753</td>\n",
       "      <td>0.678482</td>\n",
       "      <td>0.685340</td>\n",
       "      <td>0.713194</td>\n",
       "      <td>0.769565</td>\n",
       "      <td>0.742385</td>\n",
       "      <td>...</td>\n",
       "      <td>0.842311</td>\n",
       "      <td>0.751283</td>\n",
       "      <td>0.728572</td>\n",
       "      <td>0.676694</td>\n",
       "      <td>0.558381</td>\n",
       "      <td>0.572545</td>\n",
       "      <td>0.607773</td>\n",
       "      <td>0.612672</td>\n",
       "      <td>0.625147</td>\n",
       "      <td>0.689818</td>\n",
       "    </tr>\n",
       "  </tbody>\n",
       "</table>\n",
       "<p>38303 rows × 97 columns</p>\n",
       "</div>"
      ],
      "text/plain": [
       "              0         1         2         3         4         5         6  \\\n",
       "0      0.266341  0.301877  0.179182  0.199654  0.218715  0.206993  0.163051   \n",
       "1      0.301877  0.179182  0.199654  0.218715  0.206993  0.163051  0.160461   \n",
       "2      0.179182  0.199654  0.218715  0.206993  0.163051  0.160461  0.149692   \n",
       "3      0.199654  0.218715  0.206993  0.163051  0.160461  0.149692  0.110515   \n",
       "4      0.218715  0.206993  0.163051  0.160461  0.149692  0.110515  0.145786   \n",
       "...         ...       ...       ...       ...       ...       ...       ...   \n",
       "38298  0.642676  0.709114  0.670082  0.649994  0.697505  0.703520  0.702173   \n",
       "38299  0.709114  0.670082  0.649994  0.697505  0.703520  0.702173  0.822331   \n",
       "38300  0.670082  0.649994  0.697505  0.703520  0.702173  0.822331  0.707753   \n",
       "38301  0.649994  0.697505  0.703520  0.702173  0.822331  0.707753  0.678482   \n",
       "38302  0.697505  0.703520  0.702173  0.822331  0.707753  0.678482  0.685340   \n",
       "\n",
       "              7         8         9  ...        87        88        89  \\\n",
       "0      0.160461  0.149692  0.110515  ...  0.264421  0.292833  0.284014   \n",
       "1      0.149692  0.110515  0.145786  ...  0.292833  0.284014  0.298059   \n",
       "2      0.110515  0.145786  0.136654  ...  0.284014  0.298059  0.340851   \n",
       "3      0.145786  0.136654  0.164269  ...  0.298059  0.340851  0.314706   \n",
       "4      0.136654  0.164269  0.200376  ...  0.340851  0.314706  0.246415   \n",
       "...         ...       ...       ...  ...       ...       ...       ...   \n",
       "38298  0.822331  0.707753  0.678482  ...  0.875958  0.772566  0.851645   \n",
       "38299  0.707753  0.678482  0.685340  ...  0.772566  0.851645  0.786918   \n",
       "38300  0.678482  0.685340  0.713194  ...  0.851645  0.786918  0.842311   \n",
       "38301  0.685340  0.713194  0.769565  ...  0.786918  0.842311  0.751283   \n",
       "38302  0.713194  0.769565  0.742385  ...  0.842311  0.751283  0.728572   \n",
       "\n",
       "             90        91        92        93        94        95        96  \n",
       "0      0.298059  0.340851  0.314706  0.246415  0.234598  0.339760  0.303974  \n",
       "1      0.340851  0.314706  0.246415  0.234598  0.339760  0.303974  0.325076  \n",
       "2      0.314706  0.246415  0.234598  0.339760  0.303974  0.325076  0.290367  \n",
       "3      0.246415  0.234598  0.339760  0.303974  0.325076  0.290367  0.310150  \n",
       "4      0.234598  0.339760  0.303974  0.325076  0.290367  0.310150  0.277126  \n",
       "...         ...       ...       ...       ...       ...       ...       ...  \n",
       "38298  0.786918  0.842311  0.751283  0.728572  0.676694  0.558381  0.572545  \n",
       "38299  0.842311  0.751283  0.728572  0.676694  0.558381  0.572545  0.607773  \n",
       "38300  0.751283  0.728572  0.676694  0.558381  0.572545  0.607773  0.612672  \n",
       "38301  0.728572  0.676694  0.558381  0.572545  0.607773  0.612672  0.625147  \n",
       "38302  0.676694  0.558381  0.572545  0.607773  0.612672  0.625147  0.689818  \n",
       "\n",
       "[38303 rows x 97 columns]"
      ]
     },
     "execution_count": 13,
     "metadata": {},
     "output_type": "execute_result"
    }
   ],
   "source": [
    "f = pd.DataFrame(trainX)\n",
    "f['96'] = trainY\n",
    "f"
   ]
  },
  {
   "cell_type": "code",
   "execution_count": 14,
   "id": "cf08b982",
   "metadata": {},
   "outputs": [],
   "source": [
    "trainX = np.reshape(trainX,(trainX.shape[0],1,trainX.shape[1]))\n",
    "testX = np.reshape(testX,(testX.shape[0],1,testX.shape[1]))"
   ]
  },
  {
   "cell_type": "code",
   "execution_count": 15,
   "id": "4d3e8467",
   "metadata": {},
   "outputs": [],
   "source": [
    "model=Sequential()\n",
    "model.add(LSTM(50,activation='relu',return_sequences=True, input_shape=(None,seq_size)))\n",
    "model.add(LSTM(50,activation='relu'))\n",
    "model.add(Dense(32))\n",
    "model.add(Dense(1))\n",
    "\n",
    "model.compile(optimizer='adam',loss='mean_squared_error')\n"
   ]
  },
  {
   "cell_type": "code",
   "execution_count": 16,
   "id": "f8a66d57",
   "metadata": {},
   "outputs": [
    {
     "name": "stdout",
     "output_type": "stream",
     "text": [
      "Epoch 1/10\n",
      "1197/1197 - 11s - loss: 0.0052 - val_loss: 0.0041 - 11s/epoch - 10ms/step\n",
      "Epoch 2/10\n",
      "1197/1197 - 5s - loss: 0.0035 - val_loss: 0.0038 - 5s/epoch - 5ms/step\n",
      "Epoch 3/10\n",
      "1197/1197 - 4s - loss: 0.0034 - val_loss: 0.0046 - 4s/epoch - 4ms/step\n",
      "Epoch 4/10\n",
      "1197/1197 - 5s - loss: 0.0033 - val_loss: 0.0037 - 5s/epoch - 4ms/step\n",
      "Epoch 5/10\n",
      "1197/1197 - 4s - loss: 0.0033 - val_loss: 0.0042 - 4s/epoch - 4ms/step\n",
      "Epoch 6/10\n",
      "1197/1197 - 5s - loss: 0.0033 - val_loss: 0.0039 - 5s/epoch - 4ms/step\n",
      "Epoch 7/10\n",
      "1197/1197 - 5s - loss: 0.0033 - val_loss: 0.0036 - 5s/epoch - 4ms/step\n",
      "Epoch 8/10\n",
      "1197/1197 - 6s - loss: 0.0033 - val_loss: 0.0037 - 6s/epoch - 5ms/step\n",
      "Epoch 9/10\n",
      "1197/1197 - 5s - loss: 0.0033 - val_loss: 0.0046 - 5s/epoch - 4ms/step\n",
      "Epoch 10/10\n",
      "1197/1197 - 5s - loss: 0.0033 - val_loss: 0.0036 - 5s/epoch - 4ms/step\n"
     ]
    },
    {
     "data": {
      "text/plain": [
       "<keras.callbacks.History at 0x26ebdade9a0>"
      ]
     },
     "execution_count": 16,
     "metadata": {},
     "output_type": "execute_result"
    }
   ],
   "source": [
    "model.fit(trainX,trainY,validation_data=(testX,testY),verbose=2,epochs=10)"
   ]
  },
  {
   "cell_type": "code",
   "execution_count": 17,
   "id": "362a090e",
   "metadata": {},
   "outputs": [
    {
     "name": "stdout",
     "output_type": "stream",
     "text": [
      "1197/1197 [==============================] - 3s 2ms/step\n",
      "171/171 [==============================] - 0s 2ms/step\n"
     ]
    }
   ],
   "source": [
    "trainPredict = model.predict(trainX)\n",
    "testPredict = model.predict(testX)"
   ]
  },
  {
   "cell_type": "code",
   "execution_count": 18,
   "id": "d2349bfd",
   "metadata": {
    "scrolled": false
   },
   "outputs": [],
   "source": [
    "trainPredict = scaler.inverse_transform(trainPredict)\n",
    "trainY = scaler.inverse_transform([trainY])\n",
    "testPredict = scaler.inverse_transform(testPredict)\n",
    "testY = scaler.inverse_transform([testY])"
   ]
  },
  {
   "cell_type": "code",
   "execution_count": 30,
   "id": "d18e4a72",
   "metadata": {},
   "outputs": [
    {
     "data": {
      "image/png": "[encoded data removed]",
      "text/plain": [
       "<Figure size 1152x576 with 1 Axes>"
      ]
     },
     "metadata": {
      "needs_background": "light"
     },
     "output_type": "display_data"
    }
   ],
   "source": [
    "trainPredictPlot = np.empty_like(dataset)\n",
    "trainPredictPlot[:, :] = np.nan\n",
    "trainPredictPlot[seq_size:len(trainPredict)+seq_size, :] = trainPredict\n",
    "\n",
    "# shift test predictions for plotting\n",
    "testPredictPlot = np.empty_like(dataset)\n",
    "testPredictPlot[:, :] = np.nan\n",
    "testPredictPlot[len(trainPredict)+(seq_size*2)+1:len(dataset)-1, :] = testPredict\n",
    "\n",
    "# plot baseline and predictions\n",
    "plt.figure(figsize=(16,8))\n",
    "plt.plot(scaler.inverse_transform(dataset))\n",
    "plt.plot(trainPredictPlot)\n",
    "plt.plot(testPredictPlot)\n",
    "plt.show()"
   ]
  },
  {
   "cell_type": "code",
   "execution_count": 28,
   "id": "813b0e34",
   "metadata": {},
   "outputs": [],
   "source": [
    "def mean_squared_percentage_error(y_true, y_pred):\n",
    "    y_true, y_pred = np.array(y_true), np.array(y_pred)\n",
    "    return np.mean(np.square((y_true - y_pred) / y_true)) * 100"
   ]
  },
  {
   "cell_type": "code",
   "execution_count": 21,
   "id": "a8145581",
   "metadata": {},
   "outputs": [
    {
     "name": "stdout",
     "output_type": "stream",
     "text": [
      "Mean Squared Percentage Error: 0.48%\n"
     ]
    }
   ],
   "source": [
    "mspe = mean_squared_percentage_error(testY[0],testPredict[:,0])\n",
    "print(f'Mean Squared Percentage Error: {mspe:.2f}%')"
   ]
  },
  {
   "cell_type": "code",
   "execution_count": null,
   "id": "17b58fe3",
   "metadata": {},
   "outputs": [],
   "source": []
  }
 ],
 "metadata": {
  "kernelspec": {
   "display_name": "Python 3 (ipykernel)",
   "language": "python",
   "name": "python3"
  },
  "language_info": {
   "codemirror_mode": {
    "name": "ipython",
    "version": 3
   },
   "file_extension": ".py",
   "mimetype": "text/x-python",
   "name": "python",
   "nbconvert_exporter": "python",
   "pygments_lexer": "ipython3",
   "version": "3.9.12"
  }
 },
 "nbformat": 4,
 "nbformat_minor": 5
}
