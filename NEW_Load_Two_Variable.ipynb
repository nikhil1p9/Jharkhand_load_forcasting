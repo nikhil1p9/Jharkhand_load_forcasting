{
 "cells": [
  {
   "cell_type": "code",
   "execution_count": 1,
   "id": "996dafca",
   "metadata": {},
   "outputs": [],
   "source": [
    "import pandas as pd\n",
    "import numpy as np\n",
    "import matplotlib.pyplot as plt\n",
    "from statsmodels.graphics.tsaplots import plot_acf, plot_pacf\n",
    "from sklearn.model_selection import train_test_split\n",
    "from sklearn.preprocessing import MinMaxScaler,StandardScaler\n",
    "from tensorflow.keras.models import Sequential\n",
    "from tensorflow.keras.layers import LSTM, Dense,Dropout\n",
    "import seaborn as sns\n",
    "from sklearn.model_selection import train_test_split\n",
    "import math\n",
    "from sklearn.metrics import mean_squared_error"
   ]
  },
  {
   "cell_type": "code",
   "execution_count": 2,
   "id": "3098c339",
   "metadata": {},
   "outputs": [],
   "source": [
    "data=pd.read_excel(\"jharkhand.xlsx\")"
   ]
  },
  {
   "cell_type": "code",
   "execution_count": 56,
   "id": "6a8ef65c",
   "metadata": {},
   "outputs": [],
   "source": [
    "data['Timestamp']=pd.to_datetime(data.Timestamp)"
   ]
  },
  {
   "cell_type": "code",
   "execution_count": 57,
   "id": "d90223a8",
   "metadata": {},
   "outputs": [],
   "source": [
    "df=data.iloc[:]"
   ]
  },
  {
   "cell_type": "code",
   "execution_count": 58,
   "id": "10bf12b3",
   "metadata": {},
   "outputs": [],
   "source": [
    "lis = df['demand'].tolist()"
   ]
  },
  {
   "cell_type": "code",
   "execution_count": 59,
   "id": "36dcd1e6",
   "metadata": {},
   "outputs": [],
   "source": [
    "creating_new=[]\n",
    "for i in range(43968):\n",
    "    if(i<96):\n",
    "        creating_new.append(lis[i])\n",
    "    else:\n",
    "        creating_new.append(lis[i-96])"
   ]
  },
  {
   "cell_type": "code",
   "execution_count": 60,
   "id": "53b1e4da",
   "metadata": {},
   "outputs": [],
   "source": [
    "df['demand_prev']=creating_new"
   ]
  },
  {
   "cell_type": "code",
   "execution_count": 61,
   "id": "b637bf7a",
   "metadata": {},
   "outputs": [],
   "source": [
    "cols=list(df)[1:3]"
   ]
  },
  {
   "cell_type": "code",
   "execution_count": 24,
   "id": "1971db8d",
   "metadata": {},
   "outputs": [],
   "source": [
    "df1= df.iloc[:38400]\n",
    "df2=df.iloc[38400:]"
   ]
  },
  {
   "cell_type": "code",
   "execution_count": 64,
   "id": "2db4e86c",
   "metadata": {},
   "outputs": [],
   "source": [
    "dataset=df[cols].astype(float)\n",
    "train_1 = df1[cols].astype(float)\n",
    "test_1 = df2[cols].astype(float)"
   ]
  },
  {
   "cell_type": "code",
   "execution_count": 65,
   "id": "7e160f93",
   "metadata": {},
   "outputs": [],
   "source": [
    "scaler = MinMaxScaler(feature_range=(0,1))\n",
    "scaler = scaler.fit(train_1)\n",
    "train = scaler.transform(train_1)\n",
    "test = scaler.transform(test_1)"
   ]
  },
  {
   "cell_type": "code",
   "execution_count": 66,
   "id": "793aa75a",
   "metadata": {},
   "outputs": [],
   "source": [
    "# Using 400 days as train and 58 days for testing"
   ]
  },
  {
   "cell_type": "code",
   "execution_count": 67,
   "id": "7627802f",
   "metadata": {},
   "outputs": [],
   "source": [
    "n_future=1\n",
    "n_past=96"
   ]
  },
  {
   "cell_type": "code",
   "execution_count": 68,
   "id": "b80ad596",
   "metadata": {},
   "outputs": [],
   "source": [
    "def splitter(dataset, n_past,n_future):\n",
    "    X=[]\n",
    "    Y=[]\n",
    "    for i in range(n_past,len(dataset) - n_future+1):\n",
    "        X.append(dataset[i-n_past:i,0:dataset.shape[1]])\n",
    "        Y.append(dataset[i+n_future-1:i+n_future,0])\n",
    "    return np.array(X),np.array(Y)\n"
   ]
  },
  {
   "cell_type": "code",
   "execution_count": 69,
   "id": "bd2ae16d",
   "metadata": {},
   "outputs": [],
   "source": [
    "trainX,trainY=splitter(train,n_past,n_future)\n",
    "testX,testY=splitter(test,n_past,n_future)"
   ]
  },
  {
   "cell_type": "code",
   "execution_count": 73,
   "id": "4d3e8467",
   "metadata": {},
   "outputs": [
    {
     "name": "stdout",
     "output_type": "stream",
     "text": [
      "Model: \"sequential_2\"\n",
      "_________________________________________________________________\n",
      " Layer (type)                Output Shape              Param #   \n",
      "=================================================================\n",
      " lstm_4 (LSTM)               (None, 96, 64)            17152     \n",
      "                                                                 \n",
      " lstm_5 (LSTM)               (None, 32)                12416     \n",
      "                                                                 \n",
      " dropout_2 (Dropout)         (None, 32)                0         \n",
      "                                                                 \n",
      " dense_2 (Dense)             (None, 1)                 33        \n",
      "                                                                 \n",
      "=================================================================\n",
      "Total params: 29,601\n",
      "Trainable params: 29,601\n",
      "Non-trainable params: 0\n",
      "_________________________________________________________________\n"
     ]
    }
   ],
   "source": [
    "model = Sequential()\n",
    "model.add(LSTM(64, activation='relu', input_shape=(trainX.shape[1], trainX.shape[2]), return_sequences=True))\n",
    "model.add(LSTM(32, activation='relu', return_sequences=False))\n",
    "model.add(Dropout(0.2))\n",
    "model.add(Dense(trainY.shape[1]))\n",
    "\n",
    "model.compile(optimizer='adam', loss='mse')\n",
    "model.summary()"
   ]
  },
  {
   "cell_type": "code",
   "execution_count": 74,
   "id": "f8a66d57",
   "metadata": {
    "scrolled": true
   },
   "outputs": [
    {
     "name": "stdout",
     "output_type": "stream",
     "text": [
      "Epoch 1/2\n",
      "2155/2155 [==============================] - 179s 81ms/step - loss: 0.0059 - val_loss: 0.0064\n",
      "Epoch 2/2\n",
      "2155/2155 [==============================] - 176s 82ms/step - loss: 0.0037 - val_loss: 0.0087\n"
     ]
    }
   ],
   "source": [
    "history = model.fit(trainX, trainY, epochs=2, batch_size=16, validation_split=0.1, verbose=1)"
   ]
  },
  {
   "cell_type": "code",
   "execution_count": 75,
   "id": "362a090e",
   "metadata": {},
   "outputs": [
    {
     "name": "stdout",
     "output_type": "stream",
     "text": [
      "1197/1197 [==============================] - 36s 29ms/step\n",
      "171/171 [==============================] - 5s 29ms/step\n"
     ]
    }
   ],
   "source": [
    "trainPredict = model.predict(trainX)\n",
    "testPredict = model.predict(testX)"
   ]
  },
  {
   "cell_type": "code",
   "execution_count": 76,
   "id": "a2fd7222",
   "metadata": {},
   "outputs": [],
   "source": [
    "prediction_copies = np.repeat(trainPredict, train.shape[1], axis=-1)\n",
    "trainPredict = scaler.inverse_transform(prediction_copies)[:,0]"
   ]
  },
  {
   "cell_type": "code",
   "execution_count": 77,
   "id": "be67564a",
   "metadata": {},
   "outputs": [
    {
     "data": {
      "text/plain": [
       "(5472, 96, 2)"
      ]
     },
     "execution_count": 77,
     "metadata": {},
     "output_type": "execute_result"
    }
   ],
   "source": [
    "testX.shape"
   ]
  },
  {
   "cell_type": "code",
   "execution_count": 78,
   "id": "9524d043",
   "metadata": {},
   "outputs": [],
   "source": [
    "prediction_copies = np.repeat(testPredict, train.shape[1], axis=-1)\n",
    "testPredict = scaler.inverse_transform(prediction_copies)[:,0]"
   ]
  },
  {
   "cell_type": "code",
   "execution_count": 79,
   "id": "2e1f53cc",
   "metadata": {},
   "outputs": [
    {
     "data": {
      "text/plain": [
       "(5472,)"
      ]
     },
     "execution_count": 79,
     "metadata": {},
     "output_type": "execute_result"
    }
   ],
   "source": [
    "testPredict.shape"
   ]
  },
  {
   "cell_type": "code",
   "execution_count": 80,
   "id": "71fc6e72",
   "metadata": {},
   "outputs": [
    {
     "data": {
      "text/plain": [
       "array([ 67.91742 ,  68.65208 ,  69.52577 , ..., 100.93996 , 101.13633 ,\n",
       "       105.016914], dtype=float32)"
      ]
     },
     "execution_count": 80,
     "metadata": {},
     "output_type": "execute_result"
    }
   ],
   "source": [
    "trainPredict"
   ]
  },
  {
   "cell_type": "code",
   "execution_count": 81,
   "id": "8a63d465",
   "metadata": {
    "scrolled": false
   },
   "outputs": [
    {
     "name": "stderr",
     "output_type": "stream",
     "text": [
      "C:\\Users\\91939\\AppData\\Local\\Temp\\ipykernel_16944\\2990976266.py:2: SettingWithCopyWarning: \n",
      "A value is trying to be set on a copy of a slice from a DataFrame.\n",
      "Try using .loc[row_indexer,col_indexer] = value instead\n",
      "\n",
      "See the caveats in the documentation: https://pandas.pydata.org/pandas-docs/stable/user_guide/indexing.html#returning-a-view-versus-a-copy\n",
      "  dfnew['predict'] = testPredict\n"
     ]
    }
   ],
   "source": [
    "dfnew=df.iloc[38400+96:]\n",
    "dfnew['predict'] = testPredict"
   ]
  },
  {
   "cell_type": "code",
   "execution_count": 82,
   "id": "f9db0e08",
   "metadata": {},
   "outputs": [],
   "source": [
    "dataset=data['demand'].astype(float)"
   ]
  },
  {
   "cell_type": "code",
   "execution_count": 83,
   "id": "970160aa",
   "metadata": {
    "scrolled": true
   },
   "outputs": [
    {
     "data": {
      "image/png": "[encoded data removed]",
      "text/plain": [
       "<Figure size 1152x576 with 1 Axes>"
      ]
     },
     "metadata": {
      "needs_background": "light"
     },
     "output_type": "display_data"
    }
   ],
   "source": [
    "trainPredictPlot = np.empty_like(dataset)\n",
    "trainPredictPlot[:] = np.nan\n",
    "trainPredictPlot[96:len(trainPredict)+96] = trainPredict\n",
    "\n",
    "# shift test predictions for plotting\n",
    "testPredictPlot = np.empty_like(dataset)\n",
    "testPredictPlot[:] = np.nan\n",
    "testPredictPlot[len(trainPredict)+(96*2)-1:len(dataset)-1] = testPredict\n",
    "\n",
    "# plot baseline and predictions\n",
    "plt.figure(figsize=(16, 8))\n",
    "plt.plot(dataset)\n",
    "plt.plot(trainPredictPlot)\n",
    "plt.plot(testPredictPlot)\n",
    "plt.show()"
   ]
  },
  {
   "cell_type": "code",
   "execution_count": 84,
   "id": "4aa3cb52",
   "metadata": {},
   "outputs": [],
   "source": [
    "def mean_squared_percentage_error(y_true, y_pred):\n",
    "    y_true, y_pred = np.array(y_true), np.array(y_pred)\n",
    "    return np.mean(np.square((y_true - y_pred) / y_true)) * 100"
   ]
  },
  {
   "cell_type": "code",
   "execution_count": 86,
   "id": "a3f8169a",
   "metadata": {
    "scrolled": true
   },
   "outputs": [
    {
     "name": "stdout",
     "output_type": "stream",
     "text": [
      "Mean Squared Percentage Error: 1.05%\n"
     ]
    }
   ],
   "source": [
    "mspe = mean_squared_percentage_error(dfnew['demand'],testPredict[:])\n",
    "print(f'Mean Squared Percentage Error: {mspe:.2f}%')"
   ]
  },
  {
   "cell_type": "code",
   "execution_count": null,
   "id": "0b2abf7f",
   "metadata": {},
   "outputs": [],
   "source": []
  }
 ],
 "metadata": {
  "kernelspec": {
   "display_name": "Python 3 (ipykernel)",
   "language": "python",
   "name": "python3"
  },
  "language_info": {
   "codemirror_mode": {
    "name": "ipython",
    "version": 3
   },
   "file_extension": ".py",
   "mimetype": "text/x-python",
   "name": "python",
   "nbconvert_exporter": "python",
   "pygments_lexer": "ipython3",
   "version": "3.9.12"
  }
 },
 "nbformat": 4,
 "nbformat_minor": 5
}
