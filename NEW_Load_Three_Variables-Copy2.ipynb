{
 "cells": [
  {
   "cell_type": "code",
   "execution_count": null,
   "id": "996dafca",
   "metadata": {},
   "outputs": [],
   "source": [
    "import pandas as pd\n",
    "import numpy as np\n",
    "import matplotlib.pyplot as plt\n",
    "from statsmodels.graphics.tsaplots import plot_acf, plot_pacf\n",
    "from sklearn.model_selection import train_test_split\n",
    "from sklearn.preprocessing import MinMaxScaler,StandardScaler\n",
    "from tensorflow.keras.models import Sequential\n",
    "from tensorflow.keras.layers import LSTM, Dense,Dropout\n",
    "import seaborn as sns\n",
    "from sklearn.model_selection import train_test_split\n",
    "import math\n",
    "from sklearn.metrics import mean_squared_error"
   ]
  },
  {
   "cell_type": "code",
   "execution_count": null,
   "id": "3098c339",
   "metadata": {},
   "outputs": [],
   "source": [
    "data=pd.read_excel(\"jharkhand.xlsx\")"
   ]
  },
  {
   "cell_type": "code",
   "execution_count": null,
   "id": "6a8ef65c",
   "metadata": {},
   "outputs": [],
   "source": [
    "data['Timestamp']=pd.to_datetime(data.Timestamp)"
   ]
  },
  {
   "cell_type": "code",
   "execution_count": null,
   "id": "68a475c2",
   "metadata": {},
   "outputs": [],
   "source": [
    "data2=data"
   ]
  },
  {
   "cell_type": "code",
   "execution_count": null,
   "id": "a4b0fa16",
   "metadata": {},
   "outputs": [],
   "source": [
    "percentile25 = data['demand'].quantile(0.05)\n",
    "percentile75 = data['demand'].quantile(0.95)"
   ]
  },
  {
   "cell_type": "code",
   "execution_count": null,
   "id": "a7a10b5f",
   "metadata": {},
   "outputs": [],
   "source": [
    "iqr = percentile75 - percentile25\n",
    "upper_limit = percentile75 + 1.5 * iqr\n",
    "lower_limit = percentile25 - 1.5 * iqr"
   ]
  },
  {
   "cell_type": "code",
   "execution_count": null,
   "id": "bfbfa048",
   "metadata": {},
   "outputs": [],
   "source": [
    "new_df = data.copy()\n",
    "\n",
    "new_df['demand'] = np.where(\n",
    "    new_df['demand'] > upper_limit,\n",
    "    upper_limit,\n",
    "    np.where(\n",
    "        new_df['demand'] < lower_limit,\n",
    "        lower_limit,\n",
    "        new_df['demand']\n",
    "    )\n",
    ")"
   ]
  },
  {
   "cell_type": "code",
   "execution_count": null,
   "id": "d90223a8",
   "metadata": {},
   "outputs": [],
   "source": [
    "df=new_df.iloc[:]"
   ]
  },
  {
   "cell_type": "code",
   "execution_count": null,
   "id": "05bf542e",
   "metadata": {},
   "outputs": [],
   "source": [
    "lis = df['demand'].tolist()\n",
    "lis2=data['demand'].tolist()"
   ]
  },
  {
   "cell_type": "code",
   "execution_count": null,
   "id": "0dbe83c6",
   "metadata": {},
   "outputs": [],
   "source": [
    "def create_1(lis):\n",
    "    creating_new=[]\n",
    "    for i in range(43968):\n",
    "        if(i<96):\n",
    "            creating_new.append(lis[i])\n",
    "        else:\n",
    "            creating_new.append(lis[i-96])\n",
    "    return creating_new"
   ]
  },
  {
   "cell_type": "code",
   "execution_count": null,
   "id": "931942e0",
   "metadata": {},
   "outputs": [],
   "source": [
    "def create_2(lis):\n",
    "    creating_new_2=[]\n",
    "    for i in range(43968):\n",
    "        if(i<96*7):\n",
    "            creating_new_2.append(lis[i])\n",
    "        else:\n",
    "            creating_new_2.append(lis[i-96*7])\n",
    "    return creating_new_2"
   ]
  },
  {
   "cell_type": "code",
   "execution_count": null,
   "id": "88b8b104",
   "metadata": {},
   "outputs": [],
   "source": [
    "df['demand_prev']=create_1(lis)\n",
    "df['demand_prev_week']=create_2(lis)\n",
    "data['demand_prev']=create_1(lis2)\n",
    "data['demand_prev_week']=create_2(lis2)"
   ]
  },
  {
   "cell_type": "code",
   "execution_count": null,
   "id": "28ea2e7f",
   "metadata": {},
   "outputs": [],
   "source": [
    "cols=list(df)[1:4]"
   ]
  },
  {
   "cell_type": "code",
   "execution_count": null,
   "id": "215d76b6",
   "metadata": {},
   "outputs": [],
   "source": [
    "df1= df.iloc[:38400]\n",
    "df2=data.iloc[38400:]"
   ]
  },
  {
   "cell_type": "code",
   "execution_count": null,
   "id": "2db4e86c",
   "metadata": {},
   "outputs": [],
   "source": [
    "dataset=df[cols].astype(float)\n",
    "train_1 = df1[cols].astype(float)\n",
    "test_1 = df2[cols].astype(float)"
   ]
  },
  {
   "cell_type": "code",
   "execution_count": null,
   "id": "ab6cae6c",
   "metadata": {},
   "outputs": [],
   "source": [
    "# scaler=MinMaxScaler(feature_range=(0,1))\n",
    "# dataset=scaler.fit_transform(dataset)"
   ]
  },
  {
   "cell_type": "code",
   "execution_count": null,
   "id": "03aa745c",
   "metadata": {},
   "outputs": [],
   "source": [
    "scaler = MinMaxScaler(feature_range=(0,1))\n",
    "scaler = scaler.fit(train_1)\n",
    "train = scaler.transform(train_1)\n",
    "test = scaler.transform(test_1)"
   ]
  },
  {
   "cell_type": "code",
   "execution_count": null,
   "id": "793aa75a",
   "metadata": {},
   "outputs": [],
   "source": [
    "# Using 400 days as train and 58 days for testing"
   ]
  },
  {
   "cell_type": "code",
   "execution_count": null,
   "id": "7627802f",
   "metadata": {},
   "outputs": [],
   "source": [
    "n_future=1\n",
    "n_past=96"
   ]
  },
  {
   "cell_type": "code",
   "execution_count": null,
   "id": "b80ad596",
   "metadata": {},
   "outputs": [],
   "source": [
    "def splitter(dataset, n_past,n_future):\n",
    "    X=[]\n",
    "    Y=[]\n",
    "    for i in range(n_past,len(dataset) - n_future+1):\n",
    "        X.append(dataset[i-n_past:i,0:dataset.shape[1]])\n",
    "        Y.append(dataset[i+n_future-1:i+n_future,0])\n",
    "    return np.array(X),np.array(Y)\n"
   ]
  },
  {
   "cell_type": "code",
   "execution_count": null,
   "id": "bd2ae16d",
   "metadata": {},
   "outputs": [],
   "source": [
    "trainX,trainY=splitter(train,n_past,n_future)\n",
    "testX,testY=splitter(test,n_past,n_future)"
   ]
  },
  {
   "cell_type": "code",
   "execution_count": null,
   "id": "4d3e8467",
   "metadata": {},
   "outputs": [],
   "source": [
    "model = Sequential()\n",
    "model.add(LSTM(64, activation='relu', input_shape=(trainX.shape[1], trainX.shape[2]), return_sequences=True))\n",
    "model.add(LSTM(32, activation='relu', return_sequences=False))\n",
    "model.add(Dropout(0.2))\n",
    "model.add(Dense(trainY.shape[1]))\n",
    "\n",
    "model.compile(optimizer='adam', loss='mse')\n",
    "model.summary()"
   ]
  },
  {
   "cell_type": "code",
   "execution_count": null,
   "id": "f8a66d57",
   "metadata": {
    "scrolled": true
   },
   "outputs": [],
   "source": [
    "history = model.fit(trainX, trainY, epochs=2, batch_size=16, validation_split=0.1, verbose=1)"
   ]
  },
  {
   "cell_type": "code",
   "execution_count": null,
   "id": "362a090e",
   "metadata": {
    "scrolled": true
   },
   "outputs": [],
   "source": [
    "trainPredict = model.predict(trainX)\n",
    "testPredict = model.predict(testX)"
   ]
  },
  {
   "cell_type": "code",
   "execution_count": null,
   "id": "d76b4735",
   "metadata": {},
   "outputs": [],
   "source": [
    "prediction_copies = np.repeat(trainPredict, train.shape[1], axis=-1)\n",
    "trainPredict = scaler.inverse_transform(prediction_copies)[:,0]"
   ]
  },
  {
   "cell_type": "code",
   "execution_count": null,
   "id": "fc3194a2",
   "metadata": {},
   "outputs": [],
   "source": [
    "trainPredict"
   ]
  },
  {
   "cell_type": "code",
   "execution_count": null,
   "id": "340e7716",
   "metadata": {},
   "outputs": [],
   "source": [
    "prediction_copies = np.repeat(testPredict, train.shape[1], axis=-1)\n",
    "testPredict = scaler.inverse_transform(prediction_copies)[:,0]"
   ]
  },
  {
   "cell_type": "code",
   "execution_count": null,
   "id": "bfed3172",
   "metadata": {
    "scrolled": true
   },
   "outputs": [],
   "source": [
    "dfnew=df.iloc[38400+96:]\n",
    "dfnew['predict'] = testPredict"
   ]
  },
  {
   "cell_type": "code",
   "execution_count": null,
   "id": "4c2a9f9f",
   "metadata": {},
   "outputs": [],
   "source": [
    "dataset=data['demand'].astype(float)"
   ]
  },
  {
   "cell_type": "code",
   "execution_count": null,
   "id": "970160aa",
   "metadata": {
    "scrolled": false
   },
   "outputs": [],
   "source": [
    "trainPredictPlot = np.empty_like(dataset)\n",
    "trainPredictPlot[:] = np.nan\n",
    "trainPredictPlot[96:len(trainPredict)+96] = trainPredict\n",
    "\n",
    "# shift test predictions for plotting\n",
    "testPredictPlot = np.empty_like(dataset)\n",
    "testPredictPlot[:] = np.nan\n",
    "testPredictPlot[len(trainPredict)+(96*2)-1:len(dataset)-1] = testPredict\n",
    "\n",
    "# plot baseline and predictions\n",
    "plt.figure(figsize=(16, 8))\n",
    "plt.plot(dataset)\n",
    "plt.plot(trainPredictPlot)\n",
    "plt.plot(testPredictPlot)\n",
    "plt.show()"
   ]
  },
  {
   "cell_type": "code",
   "execution_count": null,
   "id": "f7c82f9f",
   "metadata": {},
   "outputs": [],
   "source": [
    "dataset2=data2['demand'].astype(float)"
   ]
  },
  {
   "cell_type": "code",
   "execution_count": null,
   "id": "fd2599b5",
   "metadata": {},
   "outputs": [],
   "source": [
    "trainPredictPlot = np.empty_like(dataset)\n",
    "trainPredictPlot[:] = np.nan\n",
    "trainPredictPlot[96:len(trainPredict)+96] = trainPredict\n",
    "\n",
    "# shift test predictions for plotting\n",
    "testPredictPlot = np.empty_like(dataset)\n",
    "testPredictPlot[:] = np.nan\n",
    "testPredictPlot[len(trainPredict)+(96*2)-1:len(dataset)-1] = testPredict\n",
    "\n",
    "# plot baseline and predictions\n",
    "plt.figure(figsize=(16, 8))\n",
    "plt.plot(dataset2)\n",
    "plt.plot(trainPredictPlot)\n",
    "plt.plot(testPredictPlot)\n",
    "plt.show()"
   ]
  },
  {
   "cell_type": "code",
   "execution_count": null,
   "id": "4aa3cb52",
   "metadata": {},
   "outputs": [],
   "source": [
    "def mean_squared_percentage_error(y_true, y_pred):\n",
    "    y_true, y_pred = np.array(y_true), np.array(y_pred)\n",
    "    return np.mean(np.square((y_true - y_pred) / y_true)) * 100"
   ]
  },
  {
   "cell_type": "code",
   "execution_count": null,
   "id": "a3f8169a",
   "metadata": {
    "scrolled": true
   },
   "outputs": [],
   "source": [
    "mspe = mean_squared_percentage_error(dfnew['demand'],testPredict[:])\n",
    "print(f'Mean Squared Percentage Error: {mspe:.2f}%')"
   ]
  },
  {
   "cell_type": "code",
   "execution_count": null,
   "id": "3fcc8cf6",
   "metadata": {},
   "outputs": [],
   "source": []
  }
 ],
 "metadata": {
  "kernelspec": {
   "display_name": "Python 3 (ipykernel)",
   "language": "python",
   "name": "python3"
  },
  "language_info": {
   "codemirror_mode": {
    "name": "ipython",
    "version": 3
   },
   "file_extension": ".py",
   "mimetype": "text/x-python",
   "name": "python",
   "nbconvert_exporter": "python",
   "pygments_lexer": "ipython3",
   "version": "3.9.12"
  }
 },
 "nbformat": 4,
 "nbformat_minor": 5
}
