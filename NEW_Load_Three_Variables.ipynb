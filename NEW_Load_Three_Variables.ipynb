{
 "cells": [
  {
   "cell_type": "code",
   "execution_count": 1,
   "id": "996dafca",
   "metadata": {},
   "outputs": [],
   "source": [
    "import pandas as pd\n",
    "import numpy as np\n",
    "import matplotlib.pyplot as plt\n",
    "from statsmodels.graphics.tsaplots import plot_acf, plot_pacf\n",
    "from sklearn.model_selection import train_test_split\n",
    "from sklearn.preprocessing import MinMaxScaler,StandardScaler\n",
    "from tensorflow.keras.models import Sequential\n",
    "from tensorflow.keras.layers import LSTM, Dense,Dropout\n",
    "import seaborn as sns\n",
    "from sklearn.model_selection import train_test_split\n",
    "import math\n",
    "from sklearn.metrics import mean_squared_error"
   ]
  },
  {
   "cell_type": "code",
   "execution_count": 2,
   "id": "3098c339",
   "metadata": {},
   "outputs": [],
   "source": [
    "data=pd.read_excel(\"jharkhand.xlsx\")"
   ]
  },
  {
   "cell_type": "code",
   "execution_count": 3,
   "id": "6a8ef65c",
   "metadata": {},
   "outputs": [],
   "source": [
    "data['Timestamp']=pd.to_datetime(data.Timestamp)"
   ]
  },
  {
   "cell_type": "code",
   "execution_count": 4,
   "id": "d90223a8",
   "metadata": {},
   "outputs": [],
   "source": [
    "df=data.iloc[:]"
   ]
  },
  {
   "cell_type": "code",
   "execution_count": 5,
   "id": "05bf542e",
   "metadata": {},
   "outputs": [],
   "source": [
    "lis = df['demand'].tolist()"
   ]
  },
  {
   "cell_type": "code",
   "execution_count": 6,
   "id": "0dbe83c6",
   "metadata": {},
   "outputs": [],
   "source": [
    "creating_new=[]\n",
    "for i in range(43968):\n",
    "    if(i<96):\n",
    "        creating_new.append(lis[i])\n",
    "    else:\n",
    "        creating_new.append(lis[i-96])"
   ]
  },
  {
   "cell_type": "code",
   "execution_count": 7,
   "id": "931942e0",
   "metadata": {},
   "outputs": [],
   "source": [
    "creating_new_2=[]\n",
    "for i in range(43968):\n",
    "    if(i<96*7):\n",
    "        creating_new_2.append(lis[i])\n",
    "    else:\n",
    "        creating_new_2.append(lis[i-96*7])"
   ]
  },
  {
   "cell_type": "code",
   "execution_count": 8,
   "id": "88b8b104",
   "metadata": {},
   "outputs": [],
   "source": [
    "df['demand_prev']=creating_new\n",
    "df['demand_prev_week']=creating_new_2"
   ]
  },
  {
   "cell_type": "code",
   "execution_count": 9,
   "id": "28ea2e7f",
   "metadata": {},
   "outputs": [],
   "source": [
    "cols=list(df)[1:4]"
   ]
  },
  {
   "cell_type": "code",
   "execution_count": 10,
   "id": "215d76b6",
   "metadata": {},
   "outputs": [],
   "source": [
    "df1= df.iloc[:38400]\n",
    "df2=df.iloc[38400:]"
   ]
  },
  {
   "cell_type": "code",
   "execution_count": 11,
   "id": "2db4e86c",
   "metadata": {},
   "outputs": [],
   "source": [
    "dataset=df[cols].astype(float)\n",
    "train_1 = df1[cols].astype(float)\n",
    "test_1 = df2[cols].astype(float)"
   ]
  },
  {
   "cell_type": "code",
   "execution_count": 12,
   "id": "ab6cae6c",
   "metadata": {},
   "outputs": [],
   "source": [
    "# scaler=MinMaxScaler(feature_range=(0,1))\n",
    "# dataset=scaler.fit_transform(dataset)"
   ]
  },
  {
   "cell_type": "code",
   "execution_count": 13,
   "id": "03aa745c",
   "metadata": {},
   "outputs": [],
   "source": [
    "scaler = MinMaxScaler(feature_range=(0,1))\n",
    "scaler = scaler.fit(train_1)\n",
    "train = scaler.transform(train_1)\n",
    "test = scaler.transform(test_1)"
   ]
  },
  {
   "cell_type": "code",
   "execution_count": 14,
   "id": "793aa75a",
   "metadata": {},
   "outputs": [],
   "source": [
    "# Using 400 days as train and 58 days for testing"
   ]
  },
  {
   "cell_type": "code",
   "execution_count": 15,
   "id": "7627802f",
   "metadata": {},
   "outputs": [],
   "source": [
    "n_future=1\n",
    "n_past=96"
   ]
  },
  {
   "cell_type": "code",
   "execution_count": 16,
   "id": "b80ad596",
   "metadata": {},
   "outputs": [],
   "source": [
    "def splitter(dataset, n_past,n_future):\n",
    "    X=[]\n",
    "    Y=[]\n",
    "    for i in range(n_past,len(dataset) - n_future+1):\n",
    "        X.append(dataset[i-n_past:i,0:dataset.shape[1]])\n",
    "        Y.append(dataset[i+n_future-1:i+n_future,0])\n",
    "    return np.array(X),np.array(Y)\n"
   ]
  },
  {
   "cell_type": "code",
   "execution_count": 17,
   "id": "bd2ae16d",
   "metadata": {},
   "outputs": [],
   "source": [
    "trainX,trainY=splitter(train,n_past,n_future)\n",
    "testX,testY=splitter(test,n_past,n_future)"
   ]
  },
  {
   "cell_type": "code",
   "execution_count": 18,
   "id": "4d3e8467",
   "metadata": {},
   "outputs": [
    {
     "name": "stdout",
     "output_type": "stream",
     "text": [
      "Model: \"sequential\"\n",
      "_________________________________________________________________\n",
      " Layer (type)                Output Shape              Param #   \n",
      "=================================================================\n",
      " lstm (LSTM)                 (None, 96, 64)            17408     \n",
      "                                                                 \n",
      " lstm_1 (LSTM)               (None, 32)                12416     \n",
      "                                                                 \n",
      " dropout (Dropout)           (None, 32)                0         \n",
      "                                                                 \n",
      " dense (Dense)               (None, 1)                 33        \n",
      "                                                                 \n",
      "=================================================================\n",
      "Total params: 29,857\n",
      "Trainable params: 29,857\n",
      "Non-trainable params: 0\n",
      "_________________________________________________________________\n"
     ]
    }
   ],
   "source": [
    "model = Sequential()\n",
    "model.add(LSTM(64, activation='relu', input_shape=(trainX.shape[1], trainX.shape[2]), return_sequences=True))\n",
    "model.add(LSTM(32, activation='relu', return_sequences=False))\n",
    "model.add(Dropout(0.2))\n",
    "model.add(Dense(trainY.shape[1]))\n",
    "\n",
    "model.compile(optimizer='adam', loss='mse')\n",
    "model.summary()"
   ]
  },
  {
   "cell_type": "code",
   "execution_count": 19,
   "id": "f8a66d57",
   "metadata": {
    "scrolled": true
   },
   "outputs": [
    {
     "name": "stdout",
     "output_type": "stream",
     "text": [
      "Epoch 1/2\n",
      "2155/2155 [==============================] - 177s 79ms/step - loss: 0.0055 - val_loss: 0.0062\n",
      "Epoch 2/2\n",
      "2155/2155 [==============================] - 161s 75ms/step - loss: 0.0037 - val_loss: 0.0080\n"
     ]
    }
   ],
   "source": [
    "history = model.fit(trainX, trainY, epochs=2, batch_size=16, validation_split=0.1, verbose=1)"
   ]
  },
  {
   "cell_type": "code",
   "execution_count": 20,
   "id": "362a090e",
   "metadata": {
    "scrolled": true
   },
   "outputs": [
    {
     "name": "stdout",
     "output_type": "stream",
     "text": [
      "1197/1197 [==============================] - 38s 31ms/step\n",
      "171/171 [==============================] - 6s 33ms/step\n"
     ]
    }
   ],
   "source": [
    "trainPredict = model.predict(trainX)\n",
    "testPredict = model.predict(testX)"
   ]
  },
  {
   "cell_type": "code",
   "execution_count": 21,
   "id": "d76b4735",
   "metadata": {},
   "outputs": [],
   "source": [
    "prediction_copies = np.repeat(trainPredict, train.shape[1], axis=-1)\n",
    "trainPredict = scaler.inverse_transform(prediction_copies)[:,0]"
   ]
  },
  {
   "cell_type": "code",
   "execution_count": 22,
   "id": "fc3194a2",
   "metadata": {},
   "outputs": [
    {
     "data": {
      "text/plain": [
       "array([ 66.891655,  67.58105 ,  68.568535, ..., 104.06704 , 104.21924 ,\n",
       "       108.146255], dtype=float32)"
      ]
     },
     "execution_count": 22,
     "metadata": {},
     "output_type": "execute_result"
    }
   ],
   "source": [
    "trainPredict"
   ]
  },
  {
   "cell_type": "code",
   "execution_count": 23,
   "id": "340e7716",
   "metadata": {},
   "outputs": [],
   "source": [
    "prediction_copies = np.repeat(testPredict, train.shape[1], axis=-1)\n",
    "testPredict = scaler.inverse_transform(prediction_copies)[:,0]"
   ]
  },
  {
   "cell_type": "code",
   "execution_count": 24,
   "id": "bfed3172",
   "metadata": {
    "scrolled": true
   },
   "outputs": [
    {
     "name": "stderr",
     "output_type": "stream",
     "text": [
      "C:\\Users\\91939\\AppData\\Local\\Temp\\ipykernel_27536\\2990976266.py:2: SettingWithCopyWarning: \n",
      "A value is trying to be set on a copy of a slice from a DataFrame.\n",
      "Try using .loc[row_indexer,col_indexer] = value instead\n",
      "\n",
      "See the caveats in the documentation: https://pandas.pydata.org/pandas-docs/stable/user_guide/indexing.html#returning-a-view-versus-a-copy\n",
      "  dfnew['predict'] = testPredict\n"
     ]
    }
   ],
   "source": [
    "dfnew=df.iloc[38400+96:]\n",
    "dfnew['predict'] = testPredict"
   ]
  },
  {
   "cell_type": "code",
   "execution_count": 25,
   "id": "4c2a9f9f",
   "metadata": {},
   "outputs": [],
   "source": [
    "dataset=data['demand'].astype(float)"
   ]
  },
  {
   "cell_type": "code",
   "execution_count": 26,
   "id": "970160aa",
   "metadata": {
    "scrolled": true
   },
   "outputs": [
    {
     "data": {
      "image/png": "[encoded data removed]",
      "text/plain": [
       "<Figure size 1152x576 with 1 Axes>"
      ]
     },
     "metadata": {
      "needs_background": "light"
     },
     "output_type": "display_data"
    }
   ],
   "source": [
    "trainPredictPlot = np.empty_like(dataset)\n",
    "trainPredictPlot[:] = np.nan\n",
    "trainPredictPlot[96:len(trainPredict)+96] = trainPredict\n",
    "\n",
    "# shift test predictions for plotting\n",
    "testPredictPlot = np.empty_like(dataset)\n",
    "testPredictPlot[:] = np.nan\n",
    "testPredictPlot[len(trainPredict)+(96*2)-1:len(dataset)-1] = testPredict\n",
    "\n",
    "# plot baseline and predictions\n",
    "plt.figure(figsize=(16, 8))\n",
    "plt.plot(dataset)\n",
    "plt.plot(trainPredictPlot)\n",
    "plt.plot(testPredictPlot)\n",
    "plt.show()"
   ]
  },
  {
   "cell_type": "code",
   "execution_count": 27,
   "id": "4aa3cb52",
   "metadata": {},
   "outputs": [],
   "source": [
    "def mean_squared_percentage_error(y_true, y_pred):\n",
    "    y_true, y_pred = np.array(y_true), np.array(y_pred)\n",
    "    return np.mean(np.square((y_true - y_pred) / y_true)) * 100"
   ]
  },
  {
   "cell_type": "code",
   "execution_count": 28,
   "id": "a3f8169a",
   "metadata": {
    "scrolled": true
   },
   "outputs": [
    {
     "name": "stdout",
     "output_type": "stream",
     "text": [
      "Mean Squared Percentage Error: 0.86%\n"
     ]
    }
   ],
   "source": [
    "mspe = mean_squared_percentage_error(dfnew['demand'],testPredict[:])\n",
    "print(f'Mean Squared Percentage Error: {mspe:.2f}%')"
   ]
  },
  {
   "cell_type": "code",
   "execution_count": null,
   "id": "3fcc8cf6",
   "metadata": {},
   "outputs": [],
   "source": []
  }
 ],
 "metadata": {
  "kernelspec": {
   "display_name": "Python 3 (ipykernel)",
   "language": "python",
   "name": "python3"
  },
  "language_info": {
   "codemirror_mode": {
    "name": "ipython",
    "version": 3
   },
   "file_extension": ".py",
   "mimetype": "text/x-python",
   "name": "python",
   "nbconvert_exporter": "python",
   "pygments_lexer": "ipython3",
   "version": "3.9.12"
  }
 },
 "nbformat": 4,
 "nbformat_minor": 5
}
